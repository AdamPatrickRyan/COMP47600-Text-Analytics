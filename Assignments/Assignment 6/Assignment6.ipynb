{
 "cells": [
  {
   "cell_type": "markdown",
   "id": "14f78ec8",
   "metadata": {},
   "source": [
    "# Implementation given by Lecturer"
   ]
  },
  {
   "cell_type": "code",
   "execution_count": 8,
   "id": "23d4ac4c",
   "metadata": {},
   "outputs": [],
   "source": [
    "# Example of kNN implemented from Scratch in Python\n",
    "# By Jason Brownlee\n",
    "#http://machinelearningmastery.com/tutorial-to-implement-k-nearest-neighbors-in-python-from-scratch/\n",
    "\n",
    "#importing functions\n",
    "import csv\n",
    "import random\n",
    "import math\n",
    "import operator\n",
    "import numpy as np\n",
    "import pandas as pd \n",
    "import matplotlib.pyplot as plt\n",
    "from collections import defaultdict\n",
    "from sklearn.model_selection import KFold\n",
    "from sklearn.model_selection import train_test_split\n",
    "from sklearn.model_selection import cross_val_score\n",
    "from sklearn.neighbors import KNeighborsClassifier\n",
    "\n",
    "\n",
    "\n",
    "\n",
    "import csv\n",
    "import random\n",
    "import math\n",
    "import operator\n",
    "\n",
    "def loadDataset(filename, split, trainingSet=[] , testSet=[]):\n",
    "\twith open(filename, 'r') as csvfile:\n",
    "\t    lines = csv.reader(csvfile)\n",
    "\t    dataset = list(lines)\n",
    "\t    for x in range(len(dataset)-1):\n",
    "\t        for y in range(4):\n",
    "\t            dataset[x][y] = float(dataset[x][y])\n",
    "\t        if random.random() < split:\n",
    "\t            trainingSet.append(dataset[x])\n",
    "\t        else:\n",
    "\t            testSet.append(dataset[x])\n",
    "\n",
    "\n",
    "def euclideanDistance(instance1, instance2, length):\n",
    "\tdistance = 0\n",
    "\tfor x in range(length):\n",
    "\t\tdistance += pow((instance1[x] - instance2[x]), 2)\n",
    "\treturn math.sqrt(distance)\n",
    "\n",
    "def getNeighbors(trainingSet, testInstance, k):\n",
    "\tdistances = []\n",
    "\tlength = len(testInstance)-1\n",
    "\tfor x in range(len(trainingSet)):\n",
    "\t\tdist = euclideanDistance(testInstance, trainingSet[x], length)\n",
    "\t\tdistances.append((trainingSet[x], dist))\n",
    "\tdistances.sort(key=operator.itemgetter(1))\n",
    "\tneighbors = []\n",
    "\tfor x in range(k):\n",
    "\t\tneighbors.append(distances[x][0])\n",
    "\treturn neighbors\n",
    "\n",
    "def getResponse(neighbors):\n",
    "\tclassVotes = {}\n",
    "\tfor x in range(len(neighbors)):\n",
    "\t\tresponse = neighbors[x][-1]\n",
    "\t\tif response in classVotes:\n",
    "\t\t\tclassVotes[response] += 1\n",
    "\t\telse:\n",
    "\t\t\tclassVotes[response] = 1\n",
    "\tsortedVotes = sorted(classVotes.items(), key=operator.itemgetter(1), reverse=True)\n",
    "\treturn sortedVotes[0][0]\n",
    "\n",
    "def getAccuracy(testSet, predictions):\n",
    "\tcorrect = 0\n",
    "\tfor x in range(len(testSet)):\n",
    "\t\tif testSet[x][-1] == predictions[x]:\n",
    "\t\t\tcorrect += 1\n",
    "\treturn (correct/float(len(testSet))) * 100.0"
   ]
  },
  {
   "cell_type": "code",
   "execution_count": 199,
   "id": "bb4960c2",
   "metadata": {},
   "outputs": [],
   "source": [
    "def question_one_one():\n",
    "\n",
    "    #split_array = [0.18*1, 0.18*2, 0.18*3, 0.18*4, 0.90]\n",
    "    split_array=[0.36]\n",
    "    \n",
    "    #split = 0.67\n",
    "    # generate predictions\n",
    "    k_array = [2, 4, 6, 8,10,12,14,16,18,20,22]\n",
    "    final_accuracy = defaultdict(dict)\n",
    "    #k = 2\n",
    "    \n",
    "    for _el in split_array:\n",
    "        trainingSet, testSet=[], []\n",
    "        split = _el\n",
    "        print(f\"For split_value - {split}\")\n",
    "        loadDataset('iris.csv', split, trainingSet, testSet)\n",
    "        print('Train set: ' + repr(len(trainingSet)))\n",
    "        print('Test set: ' + repr(len(testSet)))\n",
    "        i = 0\n",
    "        for ele in k_array:\n",
    "            \n",
    "            predictions=[]\n",
    "            k=ele\n",
    "            \n",
    "            print(f\"k - {k}\")\n",
    "            \n",
    "            for x in range(len(testSet)):\n",
    "                neighbors = getNeighbors(trainingSet, testSet[x], k) #get k closest neighors\n",
    "                result = getResponse(neighbors) #returns the predicted class\n",
    "                predictions+=[result] #append the result to another array\n",
    "\n",
    "            accuracy = getAccuracy(testSet, predictions)\n",
    "            final_accuracy[split][k] = accuracy\n",
    "\n",
    "                    \n",
    "                    \n",
    "    print(final_accuracy)\n",
    "    \n",
    "    resultant_df = pd.DataFrame(final_accuracy)\n",
    "    display(resultant_df)\n",
    "    fig, ax1 = plt.subplots()\n",
    "    fig.set_size_inches(10, 7)\n",
    "    ax1.set_xlabel('k Value')\n",
    "    ax1.set_ylabel('Accuracy')\n",
    "    ax1.set_title('k Value vs Accuracy for split=0.36')\n",
    "    ax1.tick_params(axis='both', which='major', labelsize=15)\n",
    "    ax1.tick_params(axis='both', which='minor', labelsize=12)\n",
    "    plt.plot(resultant_df, linewidth = 3, marker = 'o', markersize = 6)\n",
    "    plt.xticks([2*x for x in range(1,12)]) \n",
    "    plt.legend(['split=0.36'])\n",
    "    plt.show()\n",
    "    plt.savefig('k_vs_accuracy.png')"
   ]
  },
  {
   "cell_type": "code",
   "execution_count": 168,
   "id": "8bb2c43a",
   "metadata": {},
   "outputs": [],
   "source": [
    "def question_one_two():\n",
    "\n",
    "    split_array = [0.18*1, 0.18*2, 0.18*3, 0.18*4, 0.90]\n",
    "    \n",
    "    #split = 0.67\n",
    "    # generate predictions\n",
    "    k_array = [6]\n",
    "    final_accuracy = defaultdict(dict)\n",
    "    #k = 2\n",
    "    \n",
    "    for _el in split_array:\n",
    "        trainingSet, testSet=[], []\n",
    "        split = _el\n",
    "        print(f\"For split_value - {split}\")\n",
    "        loadDataset('iris.csv', split, trainingSet, testSet)\n",
    "        print('Train set: ' + repr(len(trainingSet)))\n",
    "        print('Test set: ' + repr(len(testSet)))\n",
    "        i = 0\n",
    "        for ele in k_array:\n",
    "            \n",
    "            predictions=[]\n",
    "            k=ele\n",
    "            \n",
    "            print(f\"k - {k}\")\n",
    "            \n",
    "            for x in range(len(testSet)):\n",
    "                neighbors = getNeighbors(trainingSet, testSet[x], k) #get k closest neighors\n",
    "                result = getResponse(neighbors) #returns the predicted class\n",
    "                predictions+=[result] #append the result to another array\n",
    "\n",
    "            accuracy = getAccuracy(testSet, predictions)\n",
    "            final_accuracy[split][k] = accuracy\n",
    "\n",
    "                    \n",
    "                    \n",
    "    print(final_accuracy)\n",
    "    \n",
    "    resultant_df = pd.DataFrame(final_accuracy).T\n",
    "    display(resultant_df)\n",
    "    fig, ax1 = plt.subplots()\n",
    "    fig.set_size_inches(10, 7)\n",
    "    ax1.set_xlabel('Split Value')\n",
    "    ax1.set_ylabel('Accuracy')\n",
    "    ax1.set_title(f'Split Value vs Accuracy for k=8')\n",
    "    ax1.tick_params(axis='both', which='major', labelsize=15)\n",
    "    ax1.tick_params(axis='both', which='minor', labelsize=12)\n",
    "    plt.plot(resultant_df, linewidth = 3, marker = 'o', markersize = 6)\n",
    "    plt.xticks(split_array) \n",
    "    plt.legend(['k=8'])\n",
    "    plt.show()\n",
    "    plt.savefig('split_vs_accuracy.png')"
   ]
  },
  {
   "cell_type": "code",
   "execution_count": 38,
   "id": "2f04a016",
   "metadata": {},
   "outputs": [],
   "source": [
    "plt.style.use('ggplot')"
   ]
  },
  {
   "cell_type": "code",
   "execution_count": 208,
   "id": "507616b9",
   "metadata": {},
   "outputs": [],
   "source": [
    "def equal_index_array(l1,l2):\n",
    "    \n",
    "    bool_array=[]\n",
    "    \n",
    "    for pos in range(len(l1)):\n",
    "        bool_array+=[l1[pos]==l2[pos]]\n",
    "        \n",
    "    return bool_array\n",
    "\n",
    "\n",
    "def model_metrics(testActualVal, predictions,verbose=True):\n",
    "    \"\"\"A function to get Metrics for a Model\n",
    "    \n",
    "    Note: This is a function I wrote for the Research Practicum: \n",
    "    https://github.com/Team10UCD/Frontend/blob/cc12998790b7207a859d5089e10f085a65586294/flask/Data_Analytics/Model_Analytics/Route102_sample/02_local_ModelExplorationAndFeatureSelection_Route102.ipynb\"\"\"\n",
    "    \n",
    "    try:\n",
    "        accuracy=metrics.accuracy_score(testActualVal, predictions)\n",
    "    except:\n",
    "        accuracy=None\n",
    "        pass\n",
    "    \n",
    "    try:\n",
    "        confusion_matrix=metrics.confusion_matrix(testActualVal, predictions)\n",
    "    except:\n",
    "        confusion_matrix=None\n",
    "        pass\n",
    "        \n",
    "    try:\n",
    "        classification_rep=metrics.classification_report(testActualVal, predictions,output_dict=True)\n",
    "    except:\n",
    "        classification_rep=None\n",
    "        pass\n",
    "    \n",
    "    if verbose:\n",
    "        \n",
    "        try:\n",
    "            print(\"----DETAIL----\")\n",
    "            print(\"\\n\\nAccuracy: \\n\")\n",
    "            display(accuracy)\n",
    "            print(\"\\n\\nConfusion matrix: \\n\")\n",
    "            display(confusion_matrix)\n",
    "            print(\"\\n\\nClassification report:\\n \")\n",
    "            display(classification_rep)\n",
    "            \n",
    "        except:\n",
    "            print(\"----DETAIL----\")\n",
    "            print(\"\\n\\nAccuracy: \\n\", accuracy)\n",
    "            print(\"\\n\\nConfusion matrix: \\n\", confusion_matrix)\n",
    "            print(\"\\n\\nClassification report:\\n \", classification_rep)\n",
    "            \n",
    "    \n",
    "    result_dict={}\n",
    "    result_dict['Accuracy']=accuracy\n",
    "    result_dict['Confusion']=confusion_matrix\n",
    "    result_dict['ClassificationRep']=classification_rep\n",
    "    return result_dict\n",
    "\n",
    "\n",
    "\n",
    "def equal_index_array(l1,l2):\n",
    "    \n",
    "    bool_array=[]\n",
    "    \n",
    "    for pos in range(len(l1)):\n",
    "        bool_array+=[l1[pos]==l2[pos]]\n",
    "        \n",
    "    return bool_array\n",
    "\n",
    "\n",
    "def model_metrics(testActualVal, predictions,verbose=True):\n",
    "    \"\"\"A function to get Metrics for a Model\n",
    "    \n",
    "    Note: This is a function I wrote for the Research Practicum: \n",
    "    https://github.com/Team10UCD/Frontend/blob/cc12998790b7207a859d5089e10f085a65586294/flask/Data_Analytics/Model_Analytics/Route102_sample/02_local_ModelExplorationAndFeatureSelection_Route102.ipynb\"\"\"\n",
    "    \n",
    "    try:\n",
    "        accuracy=metrics.accuracy_score(testActualVal, predictions)\n",
    "    except:\n",
    "        accuracy=None\n",
    "        pass\n",
    "    \n",
    "    try:\n",
    "        confusion_matrix=metrics.confusion_matrix(testActualVal, predictions)\n",
    "    except:\n",
    "        confusion_matrix=None\n",
    "        pass\n",
    "        \n",
    "    try:\n",
    "        classification_rep=metrics.classification_report(testActualVal, predictions,output_dict=True)\n",
    "    except:\n",
    "        classification_rep=None\n",
    "        pass\n",
    "    \n",
    "    if verbose:\n",
    "        \n",
    "        try:\n",
    "            print(\"----DETAIL----\")\n",
    "            print(\"\\n\\nAccuracy: \\n\")\n",
    "            display(accuracy)\n",
    "            print(\"\\n\\nConfusion matrix: \\n\")\n",
    "            display(confusion_matrix)\n",
    "            print(\"\\n\\nClassification report:\\n \")\n",
    "            display(classification_rep)\n",
    "            \n",
    "        except:\n",
    "            print(\"----DETAIL----\")\n",
    "            print(\"\\n\\nAccuracy: \\n\", accuracy)\n",
    "            print(\"\\n\\nConfusion matrix: \\n\", confusion_matrix)\n",
    "            print(\"\\n\\nClassification report:\\n \", classification_rep)\n",
    "            \n",
    "    \n",
    "    result_dict={}\n",
    "    result_dict['Accuracy']=accuracy\n",
    "    result_dict['Confusion']=confusion_matrix\n",
    "    result_dict['ClassificationRep']=classification_rep\n",
    "    return result_dict\n",
    "\n",
    "\n",
    "def create_knn(X,y,neighbours=round(np.sqrt(len(X)),0),plot_comp=True,scaler='Standard', random_state=14395076,assess=True, test_size=0.33,verbose=True):\n",
    "    \"\"\"Create a model using SK's Naive Bayes.\"\"\"\n",
    "    \n",
    "    \n",
    "    print(\"\"\"\n",
    "-\n",
    "{}-Nearest Neighbours:\n",
    "-\n",
    "          \n",
    "          \"\"\".format(neighbours))\n",
    "    \n",
    "    X_train, X_test, y_train, y_test = train_test_split(X \n",
    "                                                        ,y\n",
    "                                                        ,random_state=random_state\n",
    "                                                        ,test_size=test_size)\n",
    "    \n",
    "    if scaler=='Standard':\n",
    "        scaler = StandardScaler()\n",
    "    elif scaler=='MinMax':    \n",
    "        scaler = MinMaxScaler()\n",
    "    elif scaler==None:\n",
    "        pass\n",
    "    else:\n",
    "        raise ValueError(\"Need to implemenet your scaler - Choose Standard or MinMax\")\n",
    "    \n",
    "    if scaler is not None:\n",
    "        X_train = scaler.fit_transform(X_train)\n",
    "        X_test = scaler.transform(X_test)\n",
    "    \n",
    "    start=time.perf_counter()\n",
    "    \n",
    "    #Create the DT Regression\n",
    "    model=KNeighborsClassifier(n_neighbors=neighbours, \n",
    "                     weights='uniform', \n",
    "                     algorithm='auto', \n",
    "                     leaf_size=30, \n",
    "                     p=2, \n",
    "                     metric='minkowski', \n",
    "                     metric_params=None, \n",
    "                     n_jobs=None)\n",
    "\n",
    "    #Fit the data\n",
    "    model.fit(X_train,y_train)\n",
    "   \n",
    "    \n",
    "    #Check the predictions\n",
    "    predictions = model.predict(X_test)\n",
    "    end=time.perf_counter()\n",
    "    \n",
    "    print(\"Total Time to Classify: {}\".format(end-start))\n",
    "    \n",
    "    \n",
    "    #Results\n",
    "    pred_vs_act_df=pd.DataFrame({'Actual':y_test\n",
    "                                 ,'PredictionClass':predictions\n",
    "                                ,'Diff':equal_index_array(l1=y_test,l2=predictions)})\n",
    "    \n",
    "    model_metric=model_metrics(testActualVal=y_test, predictions=predictions, verbose=True)\n",
    "    \n",
    "    \n",
    "    scores = cross_val_score(KNeighborsClassifier(n_neighbors=neighbours, \n",
    "                     weights='uniform', \n",
    "                     algorithm='auto', \n",
    "                     leaf_size=30, \n",
    "                     p=2, \n",
    "                     metric='minkowski', \n",
    "                     metric_params=None, \n",
    "                     n_jobs=None), X, y, scoring='accuracy', cv=5)\n",
    "    print(scores)\n",
    "\n",
    "    cv_rmse = scores**0.5\n",
    "    print(\"Avg Accuracy score over 5 folds: \\n\", np.mean(cv_rmse))\n",
    "    print(\"Stddev Accuracy score over 5 folds: \\n\", np.std(cv_rmse))\n",
    "    \n",
    "    model_metric['ClassificationRep']['Classification Time']=end-start\n",
    "    result_dict={}\n",
    "    result_dict['k']=neighbours\n",
    "    result_dict['Split']=test_size\n",
    "    result_dict['Model']=model\n",
    "    result_dict['Classification_Time']=end-start\n",
    "    result_dict['Actual vs Prediction']=pred_vs_act_df\n",
    "    result_dict['Accuracy']=model_metric['Accuracy']\n",
    "    result_dict['Confusion']=model_metric['Confusion']\n",
    "    result_dict['ClassificationRep']=model_metric['ClassificationRep']\n",
    "    result_dict['CrossVal_Acc_Mean']=np.mean(cv_rmse)\n",
    "    result_dict['CrossVal_Acc_Mean']=np.std(cv_rmse)\n",
    "    result_dict['CV']=scores\n",
    "\n",
    "    return result_dict\n",
    "\n",
    "\n",
    "\n",
    "\n",
    "def create_model(X,y,neighbours=2,scaler=None,random_state=14395076,plot_comp=True,assess=True,test_size=0.33, verbose=True,mod_type='kNN'):\n",
    "    \"\"\"A wrapper to call the create model function\"\"\"\n",
    "\n",
    "    \n",
    "    if mod_type=='kNN':\n",
    "        mod_result=create_knn(X\n",
    "                              ,y\n",
    "                              ,neighbours=neighbours\n",
    "                              ,plot_comp=plot_comp\n",
    "                              ,scaler='Standard'\n",
    "                              ,random_state=random_state\n",
    "                              ,assess=assess\n",
    "                              ,test_size=test_size\n",
    "                              ,verbose=verbose)\n",
    "        \n",
    "        return mod_result\n",
    "    \n",
    "    else:\n",
    "        print(\"Sorry, I've not built that yet.\")\n",
    "        raise ValueError(\"Must be My Naive Bayes or SK Naive Bayes\")"
   ]
  },
  {
   "cell_type": "code",
   "execution_count": 167,
   "id": "315cd385",
   "metadata": {},
   "outputs": [
    {
     "name": "stdout",
     "output_type": "stream",
     "text": [
      "For split_value - 0.36\n",
      "Train set: 57\n",
      "Test set: 92\n",
      "k - 2\n",
      "k - 4\n",
      "k - 6\n",
      "k - 8\n",
      "k - 10\n",
      "k - 12\n",
      "k - 14\n",
      "k - 16\n",
      "k - 18\n",
      "k - 20\n",
      "k - 22\n",
      "defaultdict(<class 'dict'>, {0.36: {2: 95.65217391304348, 4: 96.73913043478261, 6: 98.91304347826086, 8: 97.82608695652173, 10: 96.73913043478261, 12: 95.65217391304348, 14: 95.65217391304348, 16: 94.56521739130434, 18: 94.56521739130434, 20: 93.47826086956522, 22: 94.56521739130434}})\n"
     ]
    },
    {
     "data": {
      "text/html": [
       "<div>\n",
       "<style scoped>\n",
       "    .dataframe tbody tr th:only-of-type {\n",
       "        vertical-align: middle;\n",
       "    }\n",
       "\n",
       "    .dataframe tbody tr th {\n",
       "        vertical-align: top;\n",
       "    }\n",
       "\n",
       "    .dataframe thead th {\n",
       "        text-align: right;\n",
       "    }\n",
       "</style>\n",
       "<table border=\"1\" class=\"dataframe\">\n",
       "  <thead>\n",
       "    <tr style=\"text-align: right;\">\n",
       "      <th></th>\n",
       "      <th>0.36</th>\n",
       "    </tr>\n",
       "  </thead>\n",
       "  <tbody>\n",
       "    <tr>\n",
       "      <th>2</th>\n",
       "      <td>95.652174</td>\n",
       "    </tr>\n",
       "    <tr>\n",
       "      <th>4</th>\n",
       "      <td>96.739130</td>\n",
       "    </tr>\n",
       "    <tr>\n",
       "      <th>6</th>\n",
       "      <td>98.913043</td>\n",
       "    </tr>\n",
       "    <tr>\n",
       "      <th>8</th>\n",
       "      <td>97.826087</td>\n",
       "    </tr>\n",
       "    <tr>\n",
       "      <th>10</th>\n",
       "      <td>96.739130</td>\n",
       "    </tr>\n",
       "    <tr>\n",
       "      <th>12</th>\n",
       "      <td>95.652174</td>\n",
       "    </tr>\n",
       "    <tr>\n",
       "      <th>14</th>\n",
       "      <td>95.652174</td>\n",
       "    </tr>\n",
       "    <tr>\n",
       "      <th>16</th>\n",
       "      <td>94.565217</td>\n",
       "    </tr>\n",
       "    <tr>\n",
       "      <th>18</th>\n",
       "      <td>94.565217</td>\n",
       "    </tr>\n",
       "    <tr>\n",
       "      <th>20</th>\n",
       "      <td>93.478261</td>\n",
       "    </tr>\n",
       "    <tr>\n",
       "      <th>22</th>\n",
       "      <td>94.565217</td>\n",
       "    </tr>\n",
       "  </tbody>\n",
       "</table>\n",
       "</div>"
      ],
      "text/plain": [
       "         0.36\n",
       "2   95.652174\n",
       "4   96.739130\n",
       "6   98.913043\n",
       "8   97.826087\n",
       "10  96.739130\n",
       "12  95.652174\n",
       "14  95.652174\n",
       "16  94.565217\n",
       "18  94.565217\n",
       "20  93.478261\n",
       "22  94.565217"
      ]
     },
     "metadata": {},
     "output_type": "display_data"
    },
    {
     "data": {
      "image/png": "[encoded data removed]",
      "text/plain": [
       "<Figure size 720x504 with 1 Axes>"
      ]
     },
     "metadata": {},
     "output_type": "display_data"
    },
    {
     "data": {
      "text/plain": [
       "<Figure size 432x288 with 0 Axes>"
      ]
     },
     "metadata": {},
     "output_type": "display_data"
    }
   ],
   "source": [
    "question_one_one()"
   ]
  },
  {
   "cell_type": "code",
   "execution_count": 169,
   "id": "5d3ed65f",
   "metadata": {},
   "outputs": [
    {
     "name": "stdout",
     "output_type": "stream",
     "text": [
      "For split_value - 0.18\n",
      "Train set: 22\n",
      "Test set: 127\n",
      "k - 6\n",
      "For split_value - 0.36\n",
      "Train set: 55\n",
      "Test set: 94\n",
      "k - 6\n",
      "For split_value - 0.54\n",
      "Train set: 84\n",
      "Test set: 65\n",
      "k - 6\n",
      "For split_value - 0.72\n",
      "Train set: 111\n",
      "Test set: 38\n",
      "k - 6\n",
      "For split_value - 0.9\n",
      "Train set: 137\n",
      "Test set: 12\n",
      "k - 6\n",
      "defaultdict(<class 'dict'>, {0.18: {6: 93.7007874015748}, 0.36: {6: 95.74468085106383}, 0.54: {6: 95.38461538461539}, 0.72: {6: 97.36842105263158}, 0.9: {6: 100.0}})\n"
     ]
    },
    {
     "data": {
      "text/html": [
       "<div>\n",
       "<style scoped>\n",
       "    .dataframe tbody tr th:only-of-type {\n",
       "        vertical-align: middle;\n",
       "    }\n",
       "\n",
       "    .dataframe tbody tr th {\n",
       "        vertical-align: top;\n",
       "    }\n",
       "\n",
       "    .dataframe thead th {\n",
       "        text-align: right;\n",
       "    }\n",
       "</style>\n",
       "<table border=\"1\" class=\"dataframe\">\n",
       "  <thead>\n",
       "    <tr style=\"text-align: right;\">\n",
       "      <th></th>\n",
       "      <th>6</th>\n",
       "    </tr>\n",
       "  </thead>\n",
       "  <tbody>\n",
       "    <tr>\n",
       "      <th>0.18</th>\n",
       "      <td>93.700787</td>\n",
       "    </tr>\n",
       "    <tr>\n",
       "      <th>0.36</th>\n",
       "      <td>95.744681</td>\n",
       "    </tr>\n",
       "    <tr>\n",
       "      <th>0.54</th>\n",
       "      <td>95.384615</td>\n",
       "    </tr>\n",
       "    <tr>\n",
       "      <th>0.72</th>\n",
       "      <td>97.368421</td>\n",
       "    </tr>\n",
       "    <tr>\n",
       "      <th>0.90</th>\n",
       "      <td>100.000000</td>\n",
       "    </tr>\n",
       "  </tbody>\n",
       "</table>\n",
       "</div>"
      ],
      "text/plain": [
       "               6\n",
       "0.18   93.700787\n",
       "0.36   95.744681\n",
       "0.54   95.384615\n",
       "0.72   97.368421\n",
       "0.90  100.000000"
      ]
     },
     "metadata": {},
     "output_type": "display_data"
    },
    {
     "data": {
      "image/png": "[encoded data removed]",
      "text/plain": [
       "<Figure size 720x504 with 1 Axes>"
      ]
     },
     "metadata": {},
     "output_type": "display_data"
    },
    {
     "data": {
      "text/plain": [
       "<Figure size 432x288 with 0 Axes>"
      ]
     },
     "metadata": {},
     "output_type": "display_data"
    }
   ],
   "source": [
    "question_one_two()"
   ]
  },
  {
   "cell_type": "markdown",
   "id": "b51aaa92",
   "metadata": {},
   "source": [
    "# K Nearest Neighbours SKLearn"
   ]
  },
  {
   "cell_type": "code",
   "execution_count": 158,
   "id": "1f9f7cb0",
   "metadata": {},
   "outputs": [],
   "source": [
    "\n",
    "#import nltk as nl\n",
    "import sklearn as sk\n",
    "#import xgboost as xg\n",
    "#import pymc3 as pymc\n",
    "#import sympy as sym\n",
    "\n",
    "\n",
    "from sklearn.model_selection import train_test_split, KFold, cross_val_score\n",
    "from sklearn import metrics\n",
    "from sklearn.preprocessing import MinMaxScaler, StandardScaler, LabelEncoder, OneHotEncoder\n",
    "from sklearn.neighbors import *\n",
    "from sklearn.linear_model import LinearRegression\n",
    "from sklearn.tree import plot_tree\n",
    "from sklearn.tree import DecisionTreeClassifier\n",
    "\n",
    "\n",
    "#from sklearn.tree import export_graphviz\n",
    "#from sklearn.tree import DecisionTreeClassifier\n",
    "#from sklearn.ensemble import RandomForestClassifier\n",
    "\n",
    "\n",
    "######---------BEGIN\n",
    "#      SQL\n",
    "######--------END\n",
    "\n",
    "\n",
    "\n",
    "######---------BEGIN\n",
    "#     GENERAL\n",
    "######--------END\n",
    "\n",
    "import pandas as pd\n",
    "import numpy as np\n",
    "import os\n",
    "import sys\n",
    "import time\n",
    "\n",
    "######---------BEGIN\n",
    "#     DATA VIS\n",
    "######--------END\n",
    "\n",
    "import seaborn as sns\n",
    "import matplotlib as mp\n",
    "#from bokeh import *\n",
    "#from dash import *\n",
    "\n",
    "import matplotlib.pyplot as plt\n",
    "from matplotlib.backends.backend_pdf import PdfPages\n",
    "import matplotlib.dates as mdates\n"
   ]
  },
  {
   "cell_type": "code",
   "execution_count": 244,
   "id": "2524410b",
   "metadata": {},
   "outputs": [],
   "source": [
    "def question_one_models():\n",
    "    df=pd.read_csv('iris.csv',header=None)\n",
    "\n",
    "    test_size=0.36\n",
    "\n",
    "    X=df[[0,1,2,3]].values\n",
    "    y=df.pop(4).values\n",
    "\n",
    "    split_dict=dict()\n",
    "    k_dict=dict()\n",
    "\n",
    "    split_array = [0.18*1, 0.18*2, 0.18*3, 0.18*4, 0.90]\n",
    "\n",
    "    for split in split_array:\n",
    "        split_dict[split]=create_model(X=X\n",
    "                     ,y=y\n",
    "                     ,neighbours=int(round(np.sqrt(len(X)),0))\n",
    "                     ,scaler=None\n",
    "                     ,random_state=14395076\n",
    "                     ,plot_comp=True\n",
    "                     ,assess=True\n",
    "                     ,test_size=split\n",
    "                     , verbose=True\n",
    "                     ,mod_type='kNN')\n",
    "\n",
    "\n",
    "    k_array=[2, 4, 6, 8,10,12,14,16,18,20,22]\n",
    "\n",
    "    for k in k_array:\n",
    "        k_dict[k]=create_model(X=X\n",
    "                     ,y=y\n",
    "                     ,neighbours=k\n",
    "                     ,scaler=None\n",
    "                     ,random_state=14395076\n",
    "                     ,plot_comp=True\n",
    "                     ,assess=True\n",
    "                     ,test_size=0.36\n",
    "                     ,verbose=True\n",
    "                     ,mod_type='kNN')\n",
    "        \n",
    "        \n",
    "    return split_dict,k_dict"
   ]
  },
  {
   "cell_type": "code",
   "execution_count": 266,
   "id": "c17cf328",
   "metadata": {},
   "outputs": [],
   "source": [
    "def question_one_plots(split_dict,k_dict):\n",
    "    \n",
    "    vals=dict()\n",
    "    \n",
    "    for k in k_dict:\n",
    "        vals[k]=np.mean((k_dict[k]['CV']))\n",
    "        \n",
    "    k_df=pd.DataFrame(vals,index=[0.36])\n",
    "    \n",
    "    resultant_df = k_df.T\n",
    "    display(resultant_df)\n",
    "    \n",
    "    fig, ax1 = plt.subplots()\n",
    "    fig.set_size_inches(10, 7)\n",
    "    ax1.set_xlabel('k Value')\n",
    "    ax1.set_ylabel('Accuracy')\n",
    "    ax1.set_title(f'k Value vs 5-Fold Cross Val Accuracy for split={1-0.36}')\n",
    "    ax1.tick_params(axis='both', which='major', labelsize=15)\n",
    "    ax1.tick_params(axis='both', which='minor', labelsize=12)\n",
    "    plt.plot(resultant_df, linewidth = 3, marker = 'o', markersize = 6)\n",
    "    plt.xticks([2*x for x in range(1,12)]) \n",
    "    plt.legend(['split={}'.format(1-0.36)])\n",
    "    plt.savefig('k_vs_accuracy.png')\n",
    "    plt.show()\n",
    "    \n",
    "    \n",
    "    ###Second DF\n",
    "    s_vals=dict()\n",
    "    \n",
    "    for s in split_dict:\n",
    "        s_vals[1-s]=split_dict[s]['Accuracy']\n",
    "        \n",
    "    s_df=pd.DataFrame(s_vals,index=[12]).T\n",
    "    \n",
    "    resultant_df = s_df\n",
    "    display(resultant_df)\n",
    "    \n",
    "    display(resultant_df)\n",
    "    fig, ax1 = plt.subplots()\n",
    "    fig.set_size_inches(10, 7)\n",
    "    ax1.set_xlabel('Split Value')\n",
    "    ax1.set_ylabel('Accuracy')\n",
    "    ax1.set_title(f'Split Value vs Accuracy for k=12')\n",
    "    ax1.tick_params(axis='both', which='major', labelsize=15)\n",
    "    ax1.tick_params(axis='both', which='minor', labelsize=12)\n",
    "    plt.plot(resultant_df, linewidth = 3, marker = 'o', markersize = 6)\n",
    "    plt.xticks(resultant_df.index) \n",
    "    plt.legend(['k=12'])\n",
    "    plt.savefig('split_vs_accuracy.png')\n",
    "    plt.show()\n",
    "    \n",
    "    \n",
    "    \n",
    "    "
   ]
  },
  {
   "cell_type": "code",
   "execution_count": 267,
   "id": "329fe02f",
   "metadata": {},
   "outputs": [],
   "source": [
    "def question_one():\n",
    "    split_dict,k_dict=question_one_models()\n",
    "    question_one_plots(split_dict,k_dict)\n",
    "    return split_dict,k_dict"
   ]
  },
  {
   "cell_type": "code",
   "execution_count": 268,
   "id": "7ee475e8",
   "metadata": {},
   "outputs": [
    {
     "name": "stdout",
     "output_type": "stream",
     "text": [
      "\n",
      "-\n",
      "12-Nearest Neighbours:\n",
      "-\n",
      "          \n",
      "          \n",
      "Total Time to Classify: 0.0035032079995289678\n",
      "----DETAIL----\n",
      "\n",
      "\n",
      "Accuracy: \n",
      "\n"
     ]
    },
    {
     "data": {
      "text/plain": [
       "0.9629629629629629"
      ]
     },
     "metadata": {},
     "output_type": "display_data"
    },
    {
     "name": "stdout",
     "output_type": "stream",
     "text": [
      "\n",
      "\n",
      "Confusion matrix: \n",
      "\n"
     ]
    },
    {
     "data": {
      "text/plain": [
       "array([[10,  0,  0],\n",
       "       [ 0,  9,  1],\n",
       "       [ 0,  0,  7]])"
      ]
     },
     "metadata": {},
     "output_type": "display_data"
    },
    {
     "name": "stdout",
     "output_type": "stream",
     "text": [
      "\n",
      "\n",
      "Classification report:\n",
      " \n"
     ]
    },
    {
     "data": {
      "text/plain": [
       "{'Iris-setosa': {'precision': 1.0,\n",
       "  'recall': 1.0,\n",
       "  'f1-score': 1.0,\n",
       "  'support': 10},\n",
       " 'Iris-versicolor': {'precision': 1.0,\n",
       "  'recall': 0.9,\n",
       "  'f1-score': 0.9473684210526316,\n",
       "  'support': 10},\n",
       " 'Iris-virginica': {'precision': 0.875,\n",
       "  'recall': 1.0,\n",
       "  'f1-score': 0.9333333333333333,\n",
       "  'support': 7},\n",
       " 'accuracy': 0.9629629629629629,\n",
       " 'macro avg': {'precision': 0.9583333333333334,\n",
       "  'recall': 0.9666666666666667,\n",
       "  'f1-score': 0.960233918128655,\n",
       "  'support': 27},\n",
       " 'weighted avg': {'precision': 0.9675925925925926,\n",
       "  'recall': 0.9629629629629629,\n",
       "  'f1-score': 0.9632228719948017,\n",
       "  'support': 27}}"
      ]
     },
     "metadata": {},
     "output_type": "display_data"
    },
    {
     "name": "stdout",
     "output_type": "stream",
     "text": [
      "[0.93333333 1.         1.         0.96666667 1.        ]\n",
      "Avg Accuracy score over 5 folds: \n",
      " 0.9898567726658942\n",
      "Stddev Accuracy score over 5 folds: \n",
      " 0.013548786198780497\n",
      "\n",
      "-\n",
      "12-Nearest Neighbours:\n",
      "-\n",
      "          \n",
      "          \n",
      "Total Time to Classify: 0.0023775839999871096\n",
      "----DETAIL----\n",
      "\n",
      "\n",
      "Accuracy: \n",
      "\n"
     ]
    },
    {
     "data": {
      "text/plain": [
       "0.9444444444444444"
      ]
     },
     "metadata": {},
     "output_type": "display_data"
    },
    {
     "name": "stdout",
     "output_type": "stream",
     "text": [
      "\n",
      "\n",
      "Confusion matrix: \n",
      "\n"
     ]
    },
    {
     "data": {
      "text/plain": [
       "array([[16,  0,  0],\n",
       "       [ 0, 19,  2],\n",
       "       [ 0,  1, 16]])"
      ]
     },
     "metadata": {},
     "output_type": "display_data"
    },
    {
     "name": "stdout",
     "output_type": "stream",
     "text": [
      "\n",
      "\n",
      "Classification report:\n",
      " \n"
     ]
    },
    {
     "data": {
      "text/plain": [
       "{'Iris-setosa': {'precision': 1.0,\n",
       "  'recall': 1.0,\n",
       "  'f1-score': 1.0,\n",
       "  'support': 16},\n",
       " 'Iris-versicolor': {'precision': 0.95,\n",
       "  'recall': 0.9047619047619048,\n",
       "  'f1-score': 0.9268292682926829,\n",
       "  'support': 21},\n",
       " 'Iris-virginica': {'precision': 0.8888888888888888,\n",
       "  'recall': 0.9411764705882353,\n",
       "  'f1-score': 0.9142857142857143,\n",
       "  'support': 17},\n",
       " 'accuracy': 0.9444444444444444,\n",
       " 'macro avg': {'precision': 0.9462962962962962,\n",
       "  'recall': 0.9486461251167132,\n",
       "  'f1-score': 0.9470383275261324,\n",
       "  'support': 54},\n",
       " 'weighted avg': {'precision': 0.9455761316872429,\n",
       "  'recall': 0.9444444444444444,\n",
       "  'f1-score': 0.9445605884630275,\n",
       "  'support': 54}}"
      ]
     },
     "metadata": {},
     "output_type": "display_data"
    },
    {
     "name": "stdout",
     "output_type": "stream",
     "text": [
      "[0.93333333 1.         1.         0.96666667 1.        ]\n",
      "Avg Accuracy score over 5 folds: \n",
      " 0.9898567726658942\n",
      "Stddev Accuracy score over 5 folds: \n",
      " 0.013548786198780497\n",
      "\n",
      "-\n",
      "12-Nearest Neighbours:\n",
      "-\n",
      "          \n",
      "          \n",
      "Total Time to Classify: 0.0024983749990497017\n",
      "----DETAIL----\n",
      "\n",
      "\n",
      "Accuracy: \n",
      "\n"
     ]
    },
    {
     "data": {
      "text/plain": [
       "0.9259259259259259"
      ]
     },
     "metadata": {},
     "output_type": "display_data"
    },
    {
     "name": "stdout",
     "output_type": "stream",
     "text": [
      "\n",
      "\n",
      "Confusion matrix: \n",
      "\n"
     ]
    },
    {
     "data": {
      "text/plain": [
       "array([[24,  0,  0],\n",
       "       [ 0, 24,  4],\n",
       "       [ 0,  2, 27]])"
      ]
     },
     "metadata": {},
     "output_type": "display_data"
    },
    {
     "name": "stdout",
     "output_type": "stream",
     "text": [
      "\n",
      "\n",
      "Classification report:\n",
      " \n"
     ]
    },
    {
     "data": {
      "text/plain": [
       "{'Iris-setosa': {'precision': 1.0,\n",
       "  'recall': 1.0,\n",
       "  'f1-score': 1.0,\n",
       "  'support': 24},\n",
       " 'Iris-versicolor': {'precision': 0.9230769230769231,\n",
       "  'recall': 0.8571428571428571,\n",
       "  'f1-score': 0.888888888888889,\n",
       "  'support': 28},\n",
       " 'Iris-virginica': {'precision': 0.8709677419354839,\n",
       "  'recall': 0.9310344827586207,\n",
       "  'f1-score': 0.9,\n",
       "  'support': 29},\n",
       " 'accuracy': 0.9259259259259259,\n",
       " 'macro avg': {'precision': 0.9313482216708023,\n",
       "  'recall': 0.9293924466338259,\n",
       "  'f1-score': 0.9296296296296296,\n",
       "  'support': 81},\n",
       " 'weighted avg': {'precision': 0.9272125723738627,\n",
       "  'recall': 0.9259259259259259,\n",
       "  'f1-score': 0.9257887517146776,\n",
       "  'support': 81}}"
      ]
     },
     "metadata": {},
     "output_type": "display_data"
    },
    {
     "name": "stdout",
     "output_type": "stream",
     "text": [
      "[0.93333333 1.         1.         0.96666667 1.        ]\n",
      "Avg Accuracy score over 5 folds: \n",
      " 0.9898567726658942\n",
      "Stddev Accuracy score over 5 folds: \n",
      " 0.013548786198780497\n",
      "\n",
      "-\n",
      "12-Nearest Neighbours:\n",
      "-\n",
      "          \n",
      "          \n",
      "Total Time to Classify: 0.003038750000996515\n",
      "----DETAIL----\n",
      "\n",
      "\n",
      "Accuracy: \n",
      "\n"
     ]
    },
    {
     "data": {
      "text/plain": [
       "0.8796296296296297"
      ]
     },
     "metadata": {},
     "output_type": "display_data"
    },
    {
     "name": "stdout",
     "output_type": "stream",
     "text": [
      "\n",
      "\n",
      "Confusion matrix: \n",
      "\n"
     ]
    },
    {
     "data": {
      "text/plain": [
       "array([[33,  0,  0],\n",
       "       [ 0, 36,  0],\n",
       "       [ 0, 13, 26]])"
      ]
     },
     "metadata": {},
     "output_type": "display_data"
    },
    {
     "name": "stdout",
     "output_type": "stream",
     "text": [
      "\n",
      "\n",
      "Classification report:\n",
      " \n"
     ]
    },
    {
     "data": {
      "text/plain": [
       "{'Iris-setosa': {'precision': 1.0,\n",
       "  'recall': 1.0,\n",
       "  'f1-score': 1.0,\n",
       "  'support': 33},\n",
       " 'Iris-versicolor': {'precision': 0.7346938775510204,\n",
       "  'recall': 1.0,\n",
       "  'f1-score': 0.8470588235294119,\n",
       "  'support': 36},\n",
       " 'Iris-virginica': {'precision': 1.0,\n",
       "  'recall': 0.6666666666666666,\n",
       "  'f1-score': 0.8,\n",
       "  'support': 39},\n",
       " 'accuracy': 0.8796296296296297,\n",
       " 'macro avg': {'precision': 0.9115646258503401,\n",
       "  'recall': 0.8888888888888888,\n",
       "  'f1-score': 0.8823529411764707,\n",
       "  'support': 108},\n",
       " 'weighted avg': {'precision': 0.9115646258503401,\n",
       "  'recall': 0.8796296296296297,\n",
       "  'f1-score': 0.8767973856209151,\n",
       "  'support': 108}}"
      ]
     },
     "metadata": {},
     "output_type": "display_data"
    },
    {
     "name": "stdout",
     "output_type": "stream",
     "text": [
      "[0.93333333 1.         1.         0.96666667 1.        ]\n",
      "Avg Accuracy score over 5 folds: \n",
      " 0.9898567726658942\n",
      "Stddev Accuracy score over 5 folds: \n",
      " 0.013548786198780497\n",
      "\n",
      "-\n",
      "12-Nearest Neighbours:\n",
      "-\n",
      "          \n",
      "          \n",
      "Total Time to Classify: 0.003910666000592755\n",
      "----DETAIL----\n",
      "\n",
      "\n",
      "Accuracy: \n",
      "\n"
     ]
    },
    {
     "name": "stderr",
     "output_type": "stream",
     "text": [
      "/opt/anaconda3/lib/python3.8/site-packages/sklearn/metrics/_classification.py:1245: UndefinedMetricWarning: Precision and F-score are ill-defined and being set to 0.0 in labels with no predicted samples. Use `zero_division` parameter to control this behavior.\n",
      "  _warn_prf(average, modifier, msg_start, len(result))\n",
      "/opt/anaconda3/lib/python3.8/site-packages/sklearn/metrics/_classification.py:1245: UndefinedMetricWarning: Precision and F-score are ill-defined and being set to 0.0 in labels with no predicted samples. Use `zero_division` parameter to control this behavior.\n",
      "  _warn_prf(average, modifier, msg_start, len(result))\n",
      "/opt/anaconda3/lib/python3.8/site-packages/sklearn/metrics/_classification.py:1245: UndefinedMetricWarning: Precision and F-score are ill-defined and being set to 0.0 in labels with no predicted samples. Use `zero_division` parameter to control this behavior.\n",
      "  _warn_prf(average, modifier, msg_start, len(result))\n"
     ]
    },
    {
     "data": {
      "text/plain": [
       "0.32592592592592595"
      ]
     },
     "metadata": {},
     "output_type": "display_data"
    },
    {
     "name": "stdout",
     "output_type": "stream",
     "text": [
      "\n",
      "\n",
      "Confusion matrix: \n",
      "\n"
     ]
    },
    {
     "data": {
      "text/plain": [
       "array([[ 1, 44,  0],\n",
       "       [ 0, 43,  0],\n",
       "       [ 0, 47,  0]])"
      ]
     },
     "metadata": {},
     "output_type": "display_data"
    },
    {
     "name": "stdout",
     "output_type": "stream",
     "text": [
      "\n",
      "\n",
      "Classification report:\n",
      " \n"
     ]
    },
    {
     "data": {
      "text/plain": [
       "{'Iris-setosa': {'precision': 1.0,\n",
       "  'recall': 0.022222222222222223,\n",
       "  'f1-score': 0.04347826086956522,\n",
       "  'support': 45},\n",
       " 'Iris-versicolor': {'precision': 0.3208955223880597,\n",
       "  'recall': 1.0,\n",
       "  'f1-score': 0.4858757062146893,\n",
       "  'support': 43},\n",
       " 'Iris-virginica': {'precision': 0.0,\n",
       "  'recall': 0.0,\n",
       "  'f1-score': 0.0,\n",
       "  'support': 47},\n",
       " 'accuracy': 0.32592592592592595,\n",
       " 'macro avg': {'precision': 0.44029850746268656,\n",
       "  'recall': 0.34074074074074073,\n",
       "  'f1-score': 0.17645132236141817,\n",
       "  'support': 135},\n",
       " 'weighted avg': {'precision': 0.4355444997236042,\n",
       "  'recall': 0.32592592592592595,\n",
       "  'f1-score': 0.1692531637508302,\n",
       "  'support': 135}}"
      ]
     },
     "metadata": {},
     "output_type": "display_data"
    },
    {
     "name": "stdout",
     "output_type": "stream",
     "text": [
      "[0.93333333 1.         1.         0.96666667 1.        ]\n",
      "Avg Accuracy score over 5 folds: \n",
      " 0.9898567726658942\n",
      "Stddev Accuracy score over 5 folds: \n",
      " 0.013548786198780497\n",
      "\n",
      "-\n",
      "2-Nearest Neighbours:\n",
      "-\n",
      "          \n",
      "          \n",
      "Total Time to Classify: 0.001924874999531312\n",
      "----DETAIL----\n",
      "\n",
      "\n",
      "Accuracy: \n",
      "\n"
     ]
    },
    {
     "data": {
      "text/plain": [
       "0.9444444444444444"
      ]
     },
     "metadata": {},
     "output_type": "display_data"
    },
    {
     "name": "stdout",
     "output_type": "stream",
     "text": [
      "\n",
      "\n",
      "Confusion matrix: \n",
      "\n"
     ]
    },
    {
     "data": {
      "text/plain": [
       "array([[16,  0,  0],\n",
       "       [ 0, 19,  2],\n",
       "       [ 0,  1, 16]])"
      ]
     },
     "metadata": {},
     "output_type": "display_data"
    },
    {
     "name": "stdout",
     "output_type": "stream",
     "text": [
      "\n",
      "\n",
      "Classification report:\n",
      " \n"
     ]
    },
    {
     "data": {
      "text/plain": [
       "{'Iris-setosa': {'precision': 1.0,\n",
       "  'recall': 1.0,\n",
       "  'f1-score': 1.0,\n",
       "  'support': 16},\n",
       " 'Iris-versicolor': {'precision': 0.95,\n",
       "  'recall': 0.9047619047619048,\n",
       "  'f1-score': 0.9268292682926829,\n",
       "  'support': 21},\n",
       " 'Iris-virginica': {'precision': 0.8888888888888888,\n",
       "  'recall': 0.9411764705882353,\n",
       "  'f1-score': 0.9142857142857143,\n",
       "  'support': 17},\n",
       " 'accuracy': 0.9444444444444444,\n",
       " 'macro avg': {'precision': 0.9462962962962962,\n",
       "  'recall': 0.9486461251167132,\n",
       "  'f1-score': 0.9470383275261324,\n",
       "  'support': 54},\n",
       " 'weighted avg': {'precision': 0.9455761316872429,\n",
       "  'recall': 0.9444444444444444,\n",
       "  'f1-score': 0.9445605884630275,\n",
       "  'support': 54}}"
      ]
     },
     "metadata": {},
     "output_type": "display_data"
    },
    {
     "name": "stdout",
     "output_type": "stream",
     "text": [
      "[0.96666667 0.93333333 0.93333333 0.9        1.        ]\n",
      "Avg Accuracy score over 5 folds: \n",
      " 0.9728117888918562\n",
      "Stddev Accuracy score over 5 folds: \n",
      " 0.017432442734551096\n",
      "\n",
      "-\n",
      "4-Nearest Neighbours:\n",
      "-\n",
      "          \n",
      "          \n",
      "Total Time to Classify: 0.0023305839986278443\n",
      "----DETAIL----\n",
      "\n",
      "\n",
      "Accuracy: \n",
      "\n"
     ]
    },
    {
     "data": {
      "text/plain": [
       "0.9259259259259259"
      ]
     },
     "metadata": {},
     "output_type": "display_data"
    },
    {
     "name": "stdout",
     "output_type": "stream",
     "text": [
      "\n",
      "\n",
      "Confusion matrix: \n",
      "\n"
     ]
    },
    {
     "data": {
      "text/plain": [
       "array([[16,  0,  0],\n",
       "       [ 0, 18,  3],\n",
       "       [ 0,  1, 16]])"
      ]
     },
     "metadata": {},
     "output_type": "display_data"
    },
    {
     "name": "stdout",
     "output_type": "stream",
     "text": [
      "\n",
      "\n",
      "Classification report:\n",
      " \n"
     ]
    },
    {
     "data": {
      "text/plain": [
       "{'Iris-setosa': {'precision': 1.0,\n",
       "  'recall': 1.0,\n",
       "  'f1-score': 1.0,\n",
       "  'support': 16},\n",
       " 'Iris-versicolor': {'precision': 0.9473684210526315,\n",
       "  'recall': 0.8571428571428571,\n",
       "  'f1-score': 0.9,\n",
       "  'support': 21},\n",
       " 'Iris-virginica': {'precision': 0.8421052631578947,\n",
       "  'recall': 0.9411764705882353,\n",
       "  'f1-score': 0.8888888888888888,\n",
       "  'support': 17},\n",
       " 'accuracy': 0.9259259259259259,\n",
       " 'macro avg': {'precision': 0.9298245614035087,\n",
       "  'recall': 0.9327731092436974,\n",
       "  'f1-score': 0.9296296296296296,\n",
       "  'support': 54},\n",
       " 'weighted avg': {'precision': 0.9298245614035087,\n",
       "  'recall': 0.9259259259259259,\n",
       "  'f1-score': 0.9261316872427985,\n",
       "  'support': 54}}"
      ]
     },
     "metadata": {},
     "output_type": "display_data"
    },
    {
     "name": "stdout",
     "output_type": "stream",
     "text": [
      "[0.96666667 0.96666667 0.96666667 0.96666667 1.        ]\n",
      "Avg Accuracy score over 5 folds: \n",
      " 0.98655366420014\n",
      "Stddev Accuracy score over 5 folds: \n",
      " 0.006723167899929994\n",
      "\n",
      "-\n",
      "6-Nearest Neighbours:\n",
      "-\n",
      "          \n",
      "          \n",
      "Total Time to Classify: 0.0020419579996087123\n",
      "----DETAIL----\n",
      "\n",
      "\n",
      "Accuracy: \n",
      "\n"
     ]
    },
    {
     "data": {
      "text/plain": [
       "0.9444444444444444"
      ]
     },
     "metadata": {},
     "output_type": "display_data"
    },
    {
     "name": "stdout",
     "output_type": "stream",
     "text": [
      "\n",
      "\n",
      "Confusion matrix: \n",
      "\n"
     ]
    },
    {
     "data": {
      "text/plain": [
       "array([[16,  0,  0],\n",
       "       [ 0, 19,  2],\n",
       "       [ 0,  1, 16]])"
      ]
     },
     "metadata": {},
     "output_type": "display_data"
    },
    {
     "name": "stdout",
     "output_type": "stream",
     "text": [
      "\n",
      "\n",
      "Classification report:\n",
      " \n"
     ]
    },
    {
     "data": {
      "text/plain": [
       "{'Iris-setosa': {'precision': 1.0,\n",
       "  'recall': 1.0,\n",
       "  'f1-score': 1.0,\n",
       "  'support': 16},\n",
       " 'Iris-versicolor': {'precision': 0.95,\n",
       "  'recall': 0.9047619047619048,\n",
       "  'f1-score': 0.9268292682926829,\n",
       "  'support': 21},\n",
       " 'Iris-virginica': {'precision': 0.8888888888888888,\n",
       "  'recall': 0.9411764705882353,\n",
       "  'f1-score': 0.9142857142857143,\n",
       "  'support': 17},\n",
       " 'accuracy': 0.9444444444444444,\n",
       " 'macro avg': {'precision': 0.9462962962962962,\n",
       "  'recall': 0.9486461251167132,\n",
       "  'f1-score': 0.9470383275261324,\n",
       "  'support': 54},\n",
       " 'weighted avg': {'precision': 0.9455761316872429,\n",
       "  'recall': 0.9444444444444444,\n",
       "  'f1-score': 0.9445605884630275,\n",
       "  'support': 54}}"
      ]
     },
     "metadata": {},
     "output_type": "display_data"
    },
    {
     "name": "stdout",
     "output_type": "stream",
     "text": [
      "[0.96666667 1.         0.96666667 0.96666667 1.        ]\n",
      "Avg Accuracy score over 5 folds: \n",
      " 0.989915248150105\n",
      "Stddev Accuracy score over 5 folds: \n",
      " 0.00823416540494382\n",
      "\n",
      "-\n",
      "8-Nearest Neighbours:\n",
      "-\n",
      "          \n",
      "          \n",
      "Total Time to Classify: 0.0020917080000799615\n",
      "----DETAIL----\n",
      "\n",
      "\n",
      "Accuracy: \n",
      "\n"
     ]
    },
    {
     "data": {
      "text/plain": [
       "0.9444444444444444"
      ]
     },
     "metadata": {},
     "output_type": "display_data"
    },
    {
     "name": "stdout",
     "output_type": "stream",
     "text": [
      "\n",
      "\n",
      "Confusion matrix: \n",
      "\n"
     ]
    },
    {
     "data": {
      "text/plain": [
       "array([[16,  0,  0],\n",
       "       [ 0, 19,  2],\n",
       "       [ 0,  1, 16]])"
      ]
     },
     "metadata": {},
     "output_type": "display_data"
    },
    {
     "name": "stdout",
     "output_type": "stream",
     "text": [
      "\n",
      "\n",
      "Classification report:\n",
      " \n"
     ]
    },
    {
     "data": {
      "text/plain": [
       "{'Iris-setosa': {'precision': 1.0,\n",
       "  'recall': 1.0,\n",
       "  'f1-score': 1.0,\n",
       "  'support': 16},\n",
       " 'Iris-versicolor': {'precision': 0.95,\n",
       "  'recall': 0.9047619047619048,\n",
       "  'f1-score': 0.9268292682926829,\n",
       "  'support': 21},\n",
       " 'Iris-virginica': {'precision': 0.8888888888888888,\n",
       "  'recall': 0.9411764705882353,\n",
       "  'f1-score': 0.9142857142857143,\n",
       "  'support': 17},\n",
       " 'accuracy': 0.9444444444444444,\n",
       " 'macro avg': {'precision': 0.9462962962962962,\n",
       "  'recall': 0.9486461251167132,\n",
       "  'f1-score': 0.9470383275261324,\n",
       "  'support': 54},\n",
       " 'weighted avg': {'precision': 0.9455761316872429,\n",
       "  'recall': 0.9444444444444444,\n",
       "  'f1-score': 0.9445605884630275,\n",
       "  'support': 54}}"
      ]
     },
     "metadata": {},
     "output_type": "display_data"
    },
    {
     "name": "stdout",
     "output_type": "stream",
     "text": [
      "[0.96666667 1.         0.93333333 0.93333333 1.        ]\n",
      "Avg Accuracy score over 5 folds: \n",
      " 0.9830751292817533\n",
      "Stddev Accuracy score over 5 folds: \n",
      " 0.015164328350789515\n",
      "\n",
      "-\n",
      "10-Nearest Neighbours:\n",
      "-\n",
      "          \n",
      "          \n",
      "Total Time to Classify: 0.004789915999936056\n",
      "----DETAIL----\n",
      "\n",
      "\n",
      "Accuracy: \n",
      "\n"
     ]
    },
    {
     "data": {
      "text/plain": [
       "0.9444444444444444"
      ]
     },
     "metadata": {},
     "output_type": "display_data"
    },
    {
     "name": "stdout",
     "output_type": "stream",
     "text": [
      "\n",
      "\n",
      "Confusion matrix: \n",
      "\n"
     ]
    },
    {
     "data": {
      "text/plain": [
       "array([[16,  0,  0],\n",
       "       [ 0, 19,  2],\n",
       "       [ 0,  1, 16]])"
      ]
     },
     "metadata": {},
     "output_type": "display_data"
    },
    {
     "name": "stdout",
     "output_type": "stream",
     "text": [
      "\n",
      "\n",
      "Classification report:\n",
      " \n"
     ]
    },
    {
     "data": {
      "text/plain": [
       "{'Iris-setosa': {'precision': 1.0,\n",
       "  'recall': 1.0,\n",
       "  'f1-score': 1.0,\n",
       "  'support': 16},\n",
       " 'Iris-versicolor': {'precision': 0.95,\n",
       "  'recall': 0.9047619047619048,\n",
       "  'f1-score': 0.9268292682926829,\n",
       "  'support': 21},\n",
       " 'Iris-virginica': {'precision': 0.8888888888888888,\n",
       "  'recall': 0.9411764705882353,\n",
       "  'f1-score': 0.9142857142857143,\n",
       "  'support': 17},\n",
       " 'accuracy': 0.9444444444444444,\n",
       " 'macro avg': {'precision': 0.9462962962962962,\n",
       "  'recall': 0.9486461251167132,\n",
       "  'f1-score': 0.9470383275261324,\n",
       "  'support': 54},\n",
       " 'weighted avg': {'precision': 0.9455761316872429,\n",
       "  'recall': 0.9444444444444444,\n",
       "  'f1-score': 0.9445605884630275,\n",
       "  'support': 54}}"
      ]
     },
     "metadata": {},
     "output_type": "display_data"
    },
    {
     "name": "stdout",
     "output_type": "stream",
     "text": [
      "[0.96666667 1.         1.         0.93333333 1.        ]\n",
      "Avg Accuracy score over 5 folds: \n",
      " 0.9898567726658942\n",
      "Stddev Accuracy score over 5 folds: \n",
      " 0.013548786198780497\n",
      "\n",
      "-\n",
      "12-Nearest Neighbours:\n",
      "-\n",
      "          \n",
      "          \n",
      "Total Time to Classify: 0.004562457999782055\n",
      "----DETAIL----\n",
      "\n",
      "\n",
      "Accuracy: \n",
      "\n"
     ]
    },
    {
     "data": {
      "text/plain": [
       "0.9444444444444444"
      ]
     },
     "metadata": {},
     "output_type": "display_data"
    },
    {
     "name": "stdout",
     "output_type": "stream",
     "text": [
      "\n",
      "\n",
      "Confusion matrix: \n",
      "\n"
     ]
    },
    {
     "data": {
      "text/plain": [
       "array([[16,  0,  0],\n",
       "       [ 0, 19,  2],\n",
       "       [ 0,  1, 16]])"
      ]
     },
     "metadata": {},
     "output_type": "display_data"
    },
    {
     "name": "stdout",
     "output_type": "stream",
     "text": [
      "\n",
      "\n",
      "Classification report:\n",
      " \n"
     ]
    },
    {
     "data": {
      "text/plain": [
       "{'Iris-setosa': {'precision': 1.0,\n",
       "  'recall': 1.0,\n",
       "  'f1-score': 1.0,\n",
       "  'support': 16},\n",
       " 'Iris-versicolor': {'precision': 0.95,\n",
       "  'recall': 0.9047619047619048,\n",
       "  'f1-score': 0.9268292682926829,\n",
       "  'support': 21},\n",
       " 'Iris-virginica': {'precision': 0.8888888888888888,\n",
       "  'recall': 0.9411764705882353,\n",
       "  'f1-score': 0.9142857142857143,\n",
       "  'support': 17},\n",
       " 'accuracy': 0.9444444444444444,\n",
       " 'macro avg': {'precision': 0.9462962962962962,\n",
       "  'recall': 0.9486461251167132,\n",
       "  'f1-score': 0.9470383275261324,\n",
       "  'support': 54},\n",
       " 'weighted avg': {'precision': 0.9455761316872429,\n",
       "  'recall': 0.9444444444444444,\n",
       "  'f1-score': 0.9445605884630275,\n",
       "  'support': 54}}"
      ]
     },
     "metadata": {},
     "output_type": "display_data"
    },
    {
     "name": "stdout",
     "output_type": "stream",
     "text": [
      "[0.93333333 1.         1.         0.96666667 1.        ]\n",
      "Avg Accuracy score over 5 folds: \n",
      " 0.9898567726658942\n",
      "Stddev Accuracy score over 5 folds: \n",
      " 0.013548786198780497\n",
      "\n",
      "-\n",
      "14-Nearest Neighbours:\n",
      "-\n",
      "          \n",
      "          \n",
      "Total Time to Classify: 0.002565958000559476\n",
      "----DETAIL----\n",
      "\n",
      "\n",
      "Accuracy: \n",
      "\n"
     ]
    },
    {
     "data": {
      "text/plain": [
       "0.9444444444444444"
      ]
     },
     "metadata": {},
     "output_type": "display_data"
    },
    {
     "name": "stdout",
     "output_type": "stream",
     "text": [
      "\n",
      "\n",
      "Confusion matrix: \n",
      "\n"
     ]
    },
    {
     "data": {
      "text/plain": [
       "array([[16,  0,  0],\n",
       "       [ 0, 19,  2],\n",
       "       [ 0,  1, 16]])"
      ]
     },
     "metadata": {},
     "output_type": "display_data"
    },
    {
     "name": "stdout",
     "output_type": "stream",
     "text": [
      "\n",
      "\n",
      "Classification report:\n",
      " \n"
     ]
    },
    {
     "data": {
      "text/plain": [
       "{'Iris-setosa': {'precision': 1.0,\n",
       "  'recall': 1.0,\n",
       "  'f1-score': 1.0,\n",
       "  'support': 16},\n",
       " 'Iris-versicolor': {'precision': 0.95,\n",
       "  'recall': 0.9047619047619048,\n",
       "  'f1-score': 0.9268292682926829,\n",
       "  'support': 21},\n",
       " 'Iris-virginica': {'precision': 0.8888888888888888,\n",
       "  'recall': 0.9411764705882353,\n",
       "  'f1-score': 0.9142857142857143,\n",
       "  'support': 17},\n",
       " 'accuracy': 0.9444444444444444,\n",
       " 'macro avg': {'precision': 0.9462962962962962,\n",
       "  'recall': 0.9486461251167132,\n",
       "  'f1-score': 0.9470383275261324,\n",
       "  'support': 54},\n",
       " 'weighted avg': {'precision': 0.9455761316872429,\n",
       "  'recall': 0.9444444444444444,\n",
       "  'f1-score': 0.9445605884630275,\n",
       "  'support': 54}}"
      ]
     },
     "metadata": {},
     "output_type": "display_data"
    },
    {
     "name": "stdout",
     "output_type": "stream",
     "text": [
      "[0.93333333 1.         0.96666667 0.93333333 1.        ]\n",
      "Avg Accuracy score over 5 folds: \n",
      " 0.9830751292817533\n",
      "Stddev Accuracy score over 5 folds: \n",
      " 0.015164328350789515\n",
      "\n",
      "-\n",
      "16-Nearest Neighbours:\n",
      "-\n",
      "          \n",
      "          \n",
      "Total Time to Classify: 0.0024309170003107283\n",
      "----DETAIL----\n",
      "\n",
      "\n",
      "Accuracy: \n",
      "\n"
     ]
    },
    {
     "data": {
      "text/plain": [
       "0.9074074074074074"
      ]
     },
     "metadata": {},
     "output_type": "display_data"
    },
    {
     "name": "stdout",
     "output_type": "stream",
     "text": [
      "\n",
      "\n",
      "Confusion matrix: \n",
      "\n"
     ]
    },
    {
     "data": {
      "text/plain": [
       "array([[16,  0,  0],\n",
       "       [ 0, 17,  4],\n",
       "       [ 0,  1, 16]])"
      ]
     },
     "metadata": {},
     "output_type": "display_data"
    },
    {
     "name": "stdout",
     "output_type": "stream",
     "text": [
      "\n",
      "\n",
      "Classification report:\n",
      " \n"
     ]
    },
    {
     "data": {
      "text/plain": [
       "{'Iris-setosa': {'precision': 1.0,\n",
       "  'recall': 1.0,\n",
       "  'f1-score': 1.0,\n",
       "  'support': 16},\n",
       " 'Iris-versicolor': {'precision': 0.9444444444444444,\n",
       "  'recall': 0.8095238095238095,\n",
       "  'f1-score': 0.8717948717948718,\n",
       "  'support': 21},\n",
       " 'Iris-virginica': {'precision': 0.8,\n",
       "  'recall': 0.9411764705882353,\n",
       "  'f1-score': 0.8648648648648648,\n",
       "  'support': 17},\n",
       " 'accuracy': 0.9074074074074074,\n",
       " 'macro avg': {'precision': 0.9148148148148149,\n",
       "  'recall': 0.9169000933706816,\n",
       "  'f1-score': 0.9122199122199123,\n",
       "  'support': 54},\n",
       " 'weighted avg': {'precision': 0.9154320987654321,\n",
       "  'recall': 0.9074074074074074,\n",
       "  'f1-score': 0.9075999075999076,\n",
       "  'support': 54}}"
      ]
     },
     "metadata": {},
     "output_type": "display_data"
    },
    {
     "name": "stdout",
     "output_type": "stream",
     "text": [
      "[0.93333333 1.         0.93333333 0.96666667 1.        ]\n",
      "Avg Accuracy score over 5 folds: \n",
      " 0.9830751292817533\n",
      "Stddev Accuracy score over 5 folds: \n",
      " 0.015164328350789515\n",
      "\n",
      "-\n",
      "18-Nearest Neighbours:\n",
      "-\n",
      "          \n",
      "          \n",
      "Total Time to Classify: 0.004418874999828404\n",
      "----DETAIL----\n",
      "\n",
      "\n",
      "Accuracy: \n",
      "\n"
     ]
    },
    {
     "data": {
      "text/plain": [
       "0.8888888888888888"
      ]
     },
     "metadata": {},
     "output_type": "display_data"
    },
    {
     "name": "stdout",
     "output_type": "stream",
     "text": [
      "\n",
      "\n",
      "Confusion matrix: \n",
      "\n"
     ]
    },
    {
     "data": {
      "text/plain": [
       "array([[16,  0,  0],\n",
       "       [ 0, 16,  5],\n",
       "       [ 0,  1, 16]])"
      ]
     },
     "metadata": {},
     "output_type": "display_data"
    },
    {
     "name": "stdout",
     "output_type": "stream",
     "text": [
      "\n",
      "\n",
      "Classification report:\n",
      " \n"
     ]
    },
    {
     "data": {
      "text/plain": [
       "{'Iris-setosa': {'precision': 1.0,\n",
       "  'recall': 1.0,\n",
       "  'f1-score': 1.0,\n",
       "  'support': 16},\n",
       " 'Iris-versicolor': {'precision': 0.9411764705882353,\n",
       "  'recall': 0.7619047619047619,\n",
       "  'f1-score': 0.8421052631578947,\n",
       "  'support': 21},\n",
       " 'Iris-virginica': {'precision': 0.7619047619047619,\n",
       "  'recall': 0.9411764705882353,\n",
       "  'f1-score': 0.8421052631578947,\n",
       "  'support': 17},\n",
       " 'accuracy': 0.8888888888888888,\n",
       " 'macro avg': {'precision': 0.9010270774976658,\n",
       "  'recall': 0.9010270774976658,\n",
       "  'f1-score': 0.8947368421052632,\n",
       "  'support': 54},\n",
       " 'weighted avg': {'precision': 0.9021682747172943,\n",
       "  'recall': 0.8888888888888888,\n",
       "  'f1-score': 0.8888888888888888,\n",
       "  'support': 54}}"
      ]
     },
     "metadata": {},
     "output_type": "display_data"
    },
    {
     "name": "stdout",
     "output_type": "stream",
     "text": [
      "[0.93333333 1.         0.96666667 0.93333333 1.        ]\n",
      "Avg Accuracy score over 5 folds: \n",
      " 0.9830751292817533\n",
      "Stddev Accuracy score over 5 folds: \n",
      " 0.015164328350789515\n",
      "\n",
      "-\n",
      "20-Nearest Neighbours:\n",
      "-\n",
      "          \n",
      "          \n",
      "Total Time to Classify: 0.002525165999031742\n",
      "----DETAIL----\n",
      "\n",
      "\n",
      "Accuracy: \n",
      "\n"
     ]
    },
    {
     "data": {
      "text/plain": [
       "0.8888888888888888"
      ]
     },
     "metadata": {},
     "output_type": "display_data"
    },
    {
     "name": "stdout",
     "output_type": "stream",
     "text": [
      "\n",
      "\n",
      "Confusion matrix: \n",
      "\n"
     ]
    },
    {
     "data": {
      "text/plain": [
       "array([[16,  0,  0],\n",
       "       [ 0, 16,  5],\n",
       "       [ 0,  1, 16]])"
      ]
     },
     "metadata": {},
     "output_type": "display_data"
    },
    {
     "name": "stdout",
     "output_type": "stream",
     "text": [
      "\n",
      "\n",
      "Classification report:\n",
      " \n"
     ]
    },
    {
     "data": {
      "text/plain": [
       "{'Iris-setosa': {'precision': 1.0,\n",
       "  'recall': 1.0,\n",
       "  'f1-score': 1.0,\n",
       "  'support': 16},\n",
       " 'Iris-versicolor': {'precision': 0.9411764705882353,\n",
       "  'recall': 0.7619047619047619,\n",
       "  'f1-score': 0.8421052631578947,\n",
       "  'support': 21},\n",
       " 'Iris-virginica': {'precision': 0.7619047619047619,\n",
       "  'recall': 0.9411764705882353,\n",
       "  'f1-score': 0.8421052631578947,\n",
       "  'support': 17},\n",
       " 'accuracy': 0.8888888888888888,\n",
       " 'macro avg': {'precision': 0.9010270774976658,\n",
       "  'recall': 0.9010270774976658,\n",
       "  'f1-score': 0.8947368421052632,\n",
       "  'support': 54},\n",
       " 'weighted avg': {'precision': 0.9021682747172943,\n",
       "  'recall': 0.8888888888888888,\n",
       "  'f1-score': 0.8888888888888888,\n",
       "  'support': 54}}"
      ]
     },
     "metadata": {},
     "output_type": "display_data"
    },
    {
     "name": "stdout",
     "output_type": "stream",
     "text": [
      "[0.93333333 1.         0.93333333 0.93333333 1.        ]\n",
      "Avg Accuracy score over 5 folds: \n",
      " 0.9796550698475774\n",
      "Stddev Accuracy score over 5 folds: \n",
      " 0.016611565908666345\n",
      "\n",
      "-\n",
      "22-Nearest Neighbours:\n",
      "-\n",
      "          \n",
      "          \n",
      "Total Time to Classify: 0.0020384580002428265\n",
      "----DETAIL----\n",
      "\n",
      "\n",
      "Accuracy: \n",
      "\n"
     ]
    },
    {
     "data": {
      "text/plain": [
       "0.8888888888888888"
      ]
     },
     "metadata": {},
     "output_type": "display_data"
    },
    {
     "name": "stdout",
     "output_type": "stream",
     "text": [
      "\n",
      "\n",
      "Confusion matrix: \n",
      "\n"
     ]
    },
    {
     "data": {
      "text/plain": [
       "array([[16,  0,  0],\n",
       "       [ 0, 16,  5],\n",
       "       [ 0,  1, 16]])"
      ]
     },
     "metadata": {},
     "output_type": "display_data"
    },
    {
     "name": "stdout",
     "output_type": "stream",
     "text": [
      "\n",
      "\n",
      "Classification report:\n",
      " \n"
     ]
    },
    {
     "data": {
      "text/plain": [
       "{'Iris-setosa': {'precision': 1.0,\n",
       "  'recall': 1.0,\n",
       "  'f1-score': 1.0,\n",
       "  'support': 16},\n",
       " 'Iris-versicolor': {'precision': 0.9411764705882353,\n",
       "  'recall': 0.7619047619047619,\n",
       "  'f1-score': 0.8421052631578947,\n",
       "  'support': 21},\n",
       " 'Iris-virginica': {'precision': 0.7619047619047619,\n",
       "  'recall': 0.9411764705882353,\n",
       "  'f1-score': 0.8421052631578947,\n",
       "  'support': 17},\n",
       " 'accuracy': 0.8888888888888888,\n",
       " 'macro avg': {'precision': 0.9010270774976658,\n",
       "  'recall': 0.9010270774976658,\n",
       "  'f1-score': 0.8947368421052632,\n",
       "  'support': 54},\n",
       " 'weighted avg': {'precision': 0.9021682747172943,\n",
       "  'recall': 0.8888888888888888,\n",
       "  'f1-score': 0.8888888888888888,\n",
       "  'support': 54}}"
      ]
     },
     "metadata": {},
     "output_type": "display_data"
    },
    {
     "name": "stdout",
     "output_type": "stream",
     "text": [
      "[0.93333333 1.         0.93333333 0.93333333 1.        ]\n",
      "Avg Accuracy score over 5 folds: \n",
      " 0.9796550698475774\n",
      "Stddev Accuracy score over 5 folds: \n",
      " 0.016611565908666345\n"
     ]
    },
    {
     "data": {
      "text/html": [
       "<div>\n",
       "<style scoped>\n",
       "    .dataframe tbody tr th:only-of-type {\n",
       "        vertical-align: middle;\n",
       "    }\n",
       "\n",
       "    .dataframe tbody tr th {\n",
       "        vertical-align: top;\n",
       "    }\n",
       "\n",
       "    .dataframe thead th {\n",
       "        text-align: right;\n",
       "    }\n",
       "</style>\n",
       "<table border=\"1\" class=\"dataframe\">\n",
       "  <thead>\n",
       "    <tr style=\"text-align: right;\">\n",
       "      <th></th>\n",
       "      <th>0.36</th>\n",
       "    </tr>\n",
       "  </thead>\n",
       "  <tbody>\n",
       "    <tr>\n",
       "      <th>2</th>\n",
       "      <td>0.946667</td>\n",
       "    </tr>\n",
       "    <tr>\n",
       "      <th>4</th>\n",
       "      <td>0.973333</td>\n",
       "    </tr>\n",
       "    <tr>\n",
       "      <th>6</th>\n",
       "      <td>0.980000</td>\n",
       "    </tr>\n",
       "    <tr>\n",
       "      <th>8</th>\n",
       "      <td>0.966667</td>\n",
       "    </tr>\n",
       "    <tr>\n",
       "      <th>10</th>\n",
       "      <td>0.980000</td>\n",
       "    </tr>\n",
       "    <tr>\n",
       "      <th>12</th>\n",
       "      <td>0.980000</td>\n",
       "    </tr>\n",
       "    <tr>\n",
       "      <th>14</th>\n",
       "      <td>0.966667</td>\n",
       "    </tr>\n",
       "    <tr>\n",
       "      <th>16</th>\n",
       "      <td>0.966667</td>\n",
       "    </tr>\n",
       "    <tr>\n",
       "      <th>18</th>\n",
       "      <td>0.966667</td>\n",
       "    </tr>\n",
       "    <tr>\n",
       "      <th>20</th>\n",
       "      <td>0.960000</td>\n",
       "    </tr>\n",
       "    <tr>\n",
       "      <th>22</th>\n",
       "      <td>0.960000</td>\n",
       "    </tr>\n",
       "  </tbody>\n",
       "</table>\n",
       "</div>"
      ],
      "text/plain": [
       "        0.36\n",
       "2   0.946667\n",
       "4   0.973333\n",
       "6   0.980000\n",
       "8   0.966667\n",
       "10  0.980000\n",
       "12  0.980000\n",
       "14  0.966667\n",
       "16  0.966667\n",
       "18  0.966667\n",
       "20  0.960000\n",
       "22  0.960000"
      ]
     },
     "metadata": {},
     "output_type": "display_data"
    },
    {
     "data": {
      "image/png": "[encoded data removed]",
      "text/plain": [
       "<Figure size 720x504 with 1 Axes>"
      ]
     },
     "metadata": {},
     "output_type": "display_data"
    },
    {
     "data": {
      "text/html": [
       "<div>\n",
       "<style scoped>\n",
       "    .dataframe tbody tr th:only-of-type {\n",
       "        vertical-align: middle;\n",
       "    }\n",
       "\n",
       "    .dataframe tbody tr th {\n",
       "        vertical-align: top;\n",
       "    }\n",
       "\n",
       "    .dataframe thead th {\n",
       "        text-align: right;\n",
       "    }\n",
       "</style>\n",
       "<table border=\"1\" class=\"dataframe\">\n",
       "  <thead>\n",
       "    <tr style=\"text-align: right;\">\n",
       "      <th></th>\n",
       "      <th>12</th>\n",
       "    </tr>\n",
       "  </thead>\n",
       "  <tbody>\n",
       "    <tr>\n",
       "      <th>0.82</th>\n",
       "      <td>0.962963</td>\n",
       "    </tr>\n",
       "    <tr>\n",
       "      <th>0.64</th>\n",
       "      <td>0.944444</td>\n",
       "    </tr>\n",
       "    <tr>\n",
       "      <th>0.46</th>\n",
       "      <td>0.925926</td>\n",
       "    </tr>\n",
       "    <tr>\n",
       "      <th>0.28</th>\n",
       "      <td>0.879630</td>\n",
       "    </tr>\n",
       "    <tr>\n",
       "      <th>0.10</th>\n",
       "      <td>0.325926</td>\n",
       "    </tr>\n",
       "  </tbody>\n",
       "</table>\n",
       "</div>"
      ],
      "text/plain": [
       "            12\n",
       "0.82  0.962963\n",
       "0.64  0.944444\n",
       "0.46  0.925926\n",
       "0.28  0.879630\n",
       "0.10  0.325926"
      ]
     },
     "metadata": {},
     "output_type": "display_data"
    },
    {
     "data": {
      "text/html": [
       "<div>\n",
       "<style scoped>\n",
       "    .dataframe tbody tr th:only-of-type {\n",
       "        vertical-align: middle;\n",
       "    }\n",
       "\n",
       "    .dataframe tbody tr th {\n",
       "        vertical-align: top;\n",
       "    }\n",
       "\n",
       "    .dataframe thead th {\n",
       "        text-align: right;\n",
       "    }\n",
       "</style>\n",
       "<table border=\"1\" class=\"dataframe\">\n",
       "  <thead>\n",
       "    <tr style=\"text-align: right;\">\n",
       "      <th></th>\n",
       "      <th>12</th>\n",
       "    </tr>\n",
       "  </thead>\n",
       "  <tbody>\n",
       "    <tr>\n",
       "      <th>0.82</th>\n",
       "      <td>0.962963</td>\n",
       "    </tr>\n",
       "    <tr>\n",
       "      <th>0.64</th>\n",
       "      <td>0.944444</td>\n",
       "    </tr>\n",
       "    <tr>\n",
       "      <th>0.46</th>\n",
       "      <td>0.925926</td>\n",
       "    </tr>\n",
       "    <tr>\n",
       "      <th>0.28</th>\n",
       "      <td>0.879630</td>\n",
       "    </tr>\n",
       "    <tr>\n",
       "      <th>0.10</th>\n",
       "      <td>0.325926</td>\n",
       "    </tr>\n",
       "  </tbody>\n",
       "</table>\n",
       "</div>"
      ],
      "text/plain": [
       "            12\n",
       "0.82  0.962963\n",
       "0.64  0.944444\n",
       "0.46  0.925926\n",
       "0.28  0.879630\n",
       "0.10  0.325926"
      ]
     },
     "metadata": {},
     "output_type": "display_data"
    },
    {
     "data": {
      "image/png": "[encoded data removed]",
      "text/plain": [
       "<Figure size 720x504 with 1 Axes>"
      ]
     },
     "metadata": {},
     "output_type": "display_data"
    }
   ],
   "source": [
    "split_dict,k_dict=question_one()"
   ]
  },
  {
   "cell_type": "code",
   "execution_count": 224,
   "id": "631bf991",
   "metadata": {},
   "outputs": [
    {
     "name": "stdout",
     "output_type": "stream",
     "text": [
      "\n",
      "-\n",
      "12-Nearest Neighbours:\n",
      "-\n",
      "          \n",
      "          \n",
      "Total Time to Classify: 0.0022479170002043247\n",
      "----DETAIL----\n",
      "\n",
      "\n",
      "Accuracy: \n",
      "\n"
     ]
    },
    {
     "data": {
      "text/plain": [
       "0.9629629629629629"
      ]
     },
     "metadata": {},
     "output_type": "display_data"
    },
    {
     "name": "stdout",
     "output_type": "stream",
     "text": [
      "\n",
      "\n",
      "Confusion matrix: \n",
      "\n"
     ]
    },
    {
     "data": {
      "text/plain": [
       "array([[10,  0,  0],\n",
       "       [ 0,  9,  1],\n",
       "       [ 0,  0,  7]])"
      ]
     },
     "metadata": {},
     "output_type": "display_data"
    },
    {
     "name": "stdout",
     "output_type": "stream",
     "text": [
      "\n",
      "\n",
      "Classification report:\n",
      " \n"
     ]
    },
    {
     "data": {
      "text/plain": [
       "{'Iris-setosa': {'precision': 1.0,\n",
       "  'recall': 1.0,\n",
       "  'f1-score': 1.0,\n",
       "  'support': 10},\n",
       " 'Iris-versicolor': {'precision': 1.0,\n",
       "  'recall': 0.9,\n",
       "  'f1-score': 0.9473684210526316,\n",
       "  'support': 10},\n",
       " 'Iris-virginica': {'precision': 0.875,\n",
       "  'recall': 1.0,\n",
       "  'f1-score': 0.9333333333333333,\n",
       "  'support': 7},\n",
       " 'accuracy': 0.9629629629629629,\n",
       " 'macro avg': {'precision': 0.9583333333333334,\n",
       "  'recall': 0.9666666666666667,\n",
       "  'f1-score': 0.960233918128655,\n",
       "  'support': 27},\n",
       " 'weighted avg': {'precision': 0.9675925925925926,\n",
       "  'recall': 0.9629629629629629,\n",
       "  'f1-score': 0.9632228719948017,\n",
       "  'support': 27}}"
      ]
     },
     "metadata": {},
     "output_type": "display_data"
    },
    {
     "name": "stdout",
     "output_type": "stream",
     "text": [
      "[0.93333333 1.         1.         0.96666667 1.        ]\n",
      "Avg Accuracy score over 5 folds: \n",
      " 0.9898567726658942\n",
      "Stddev Accuracy score over 5 folds: \n",
      " 0.013548786198780497\n",
      "\n",
      "-\n",
      "12-Nearest Neighbours:\n",
      "-\n",
      "          \n",
      "          \n",
      "Total Time to Classify: 0.001802417000362766\n",
      "----DETAIL----\n",
      "\n",
      "\n",
      "Accuracy: \n",
      "\n"
     ]
    },
    {
     "data": {
      "text/plain": [
       "0.9444444444444444"
      ]
     },
     "metadata": {},
     "output_type": "display_data"
    },
    {
     "name": "stdout",
     "output_type": "stream",
     "text": [
      "\n",
      "\n",
      "Confusion matrix: \n",
      "\n"
     ]
    },
    {
     "data": {
      "text/plain": [
       "array([[16,  0,  0],\n",
       "       [ 0, 19,  2],\n",
       "       [ 0,  1, 16]])"
      ]
     },
     "metadata": {},
     "output_type": "display_data"
    },
    {
     "name": "stdout",
     "output_type": "stream",
     "text": [
      "\n",
      "\n",
      "Classification report:\n",
      " \n"
     ]
    },
    {
     "data": {
      "text/plain": [
       "{'Iris-setosa': {'precision': 1.0,\n",
       "  'recall': 1.0,\n",
       "  'f1-score': 1.0,\n",
       "  'support': 16},\n",
       " 'Iris-versicolor': {'precision': 0.95,\n",
       "  'recall': 0.9047619047619048,\n",
       "  'f1-score': 0.9268292682926829,\n",
       "  'support': 21},\n",
       " 'Iris-virginica': {'precision': 0.8888888888888888,\n",
       "  'recall': 0.9411764705882353,\n",
       "  'f1-score': 0.9142857142857143,\n",
       "  'support': 17},\n",
       " 'accuracy': 0.9444444444444444,\n",
       " 'macro avg': {'precision': 0.9462962962962962,\n",
       "  'recall': 0.9486461251167132,\n",
       "  'f1-score': 0.9470383275261324,\n",
       "  'support': 54},\n",
       " 'weighted avg': {'precision': 0.9455761316872429,\n",
       "  'recall': 0.9444444444444444,\n",
       "  'f1-score': 0.9445605884630275,\n",
       "  'support': 54}}"
      ]
     },
     "metadata": {},
     "output_type": "display_data"
    },
    {
     "name": "stdout",
     "output_type": "stream",
     "text": [
      "[0.93333333 1.         1.         0.96666667 1.        ]\n",
      "Avg Accuracy score over 5 folds: \n",
      " 0.9898567726658942\n",
      "Stddev Accuracy score over 5 folds: \n",
      " 0.013548786198780497\n",
      "\n",
      "-\n",
      "12-Nearest Neighbours:\n",
      "-\n",
      "          \n",
      "          \n",
      "Total Time to Classify: 0.003045166999072535\n",
      "----DETAIL----\n",
      "\n",
      "\n",
      "Accuracy: \n",
      "\n"
     ]
    },
    {
     "data": {
      "text/plain": [
       "0.9259259259259259"
      ]
     },
     "metadata": {},
     "output_type": "display_data"
    },
    {
     "name": "stdout",
     "output_type": "stream",
     "text": [
      "\n",
      "\n",
      "Confusion matrix: \n",
      "\n"
     ]
    },
    {
     "data": {
      "text/plain": [
       "array([[24,  0,  0],\n",
       "       [ 0, 24,  4],\n",
       "       [ 0,  2, 27]])"
      ]
     },
     "metadata": {},
     "output_type": "display_data"
    },
    {
     "name": "stdout",
     "output_type": "stream",
     "text": [
      "\n",
      "\n",
      "Classification report:\n",
      " \n"
     ]
    },
    {
     "data": {
      "text/plain": [
       "{'Iris-setosa': {'precision': 1.0,\n",
       "  'recall': 1.0,\n",
       "  'f1-score': 1.0,\n",
       "  'support': 24},\n",
       " 'Iris-versicolor': {'precision': 0.9230769230769231,\n",
       "  'recall': 0.8571428571428571,\n",
       "  'f1-score': 0.888888888888889,\n",
       "  'support': 28},\n",
       " 'Iris-virginica': {'precision': 0.8709677419354839,\n",
       "  'recall': 0.9310344827586207,\n",
       "  'f1-score': 0.9,\n",
       "  'support': 29},\n",
       " 'accuracy': 0.9259259259259259,\n",
       " 'macro avg': {'precision': 0.9313482216708023,\n",
       "  'recall': 0.9293924466338259,\n",
       "  'f1-score': 0.9296296296296296,\n",
       "  'support': 81},\n",
       " 'weighted avg': {'precision': 0.9272125723738627,\n",
       "  'recall': 0.9259259259259259,\n",
       "  'f1-score': 0.9257887517146776,\n",
       "  'support': 81}}"
      ]
     },
     "metadata": {},
     "output_type": "display_data"
    },
    {
     "name": "stdout",
     "output_type": "stream",
     "text": [
      "[0.93333333 1.         1.         0.96666667 1.        ]\n",
      "Avg Accuracy score over 5 folds: \n",
      " 0.9898567726658942\n",
      "Stddev Accuracy score over 5 folds: \n",
      " 0.013548786198780497\n",
      "\n",
      "-\n",
      "12-Nearest Neighbours:\n",
      "-\n",
      "          \n",
      "          \n",
      "Total Time to Classify: 0.00505962500028545\n",
      "----DETAIL----\n",
      "\n",
      "\n",
      "Accuracy: \n",
      "\n"
     ]
    },
    {
     "data": {
      "text/plain": [
       "0.8796296296296297"
      ]
     },
     "metadata": {},
     "output_type": "display_data"
    },
    {
     "name": "stdout",
     "output_type": "stream",
     "text": [
      "\n",
      "\n",
      "Confusion matrix: \n",
      "\n"
     ]
    },
    {
     "data": {
      "text/plain": [
       "array([[33,  0,  0],\n",
       "       [ 0, 36,  0],\n",
       "       [ 0, 13, 26]])"
      ]
     },
     "metadata": {},
     "output_type": "display_data"
    },
    {
     "name": "stdout",
     "output_type": "stream",
     "text": [
      "\n",
      "\n",
      "Classification report:\n",
      " \n"
     ]
    },
    {
     "data": {
      "text/plain": [
       "{'Iris-setosa': {'precision': 1.0,\n",
       "  'recall': 1.0,\n",
       "  'f1-score': 1.0,\n",
       "  'support': 33},\n",
       " 'Iris-versicolor': {'precision': 0.7346938775510204,\n",
       "  'recall': 1.0,\n",
       "  'f1-score': 0.8470588235294119,\n",
       "  'support': 36},\n",
       " 'Iris-virginica': {'precision': 1.0,\n",
       "  'recall': 0.6666666666666666,\n",
       "  'f1-score': 0.8,\n",
       "  'support': 39},\n",
       " 'accuracy': 0.8796296296296297,\n",
       " 'macro avg': {'precision': 0.9115646258503401,\n",
       "  'recall': 0.8888888888888888,\n",
       "  'f1-score': 0.8823529411764707,\n",
       "  'support': 108},\n",
       " 'weighted avg': {'precision': 0.9115646258503401,\n",
       "  'recall': 0.8796296296296297,\n",
       "  'f1-score': 0.8767973856209151,\n",
       "  'support': 108}}"
      ]
     },
     "metadata": {},
     "output_type": "display_data"
    },
    {
     "name": "stdout",
     "output_type": "stream",
     "text": [
      "[0.93333333 1.         1.         0.96666667 1.        ]\n",
      "Avg Accuracy score over 5 folds: \n",
      " 0.9898567726658942\n",
      "Stddev Accuracy score over 5 folds: \n",
      " 0.013548786198780497\n",
      "\n",
      "-\n",
      "12-Nearest Neighbours:\n",
      "-\n",
      "          \n",
      "          \n",
      "Total Time to Classify: 0.0038508340003318153\n",
      "----DETAIL----\n",
      "\n",
      "\n",
      "Accuracy: \n",
      "\n"
     ]
    },
    {
     "name": "stderr",
     "output_type": "stream",
     "text": [
      "/opt/anaconda3/lib/python3.8/site-packages/sklearn/metrics/_classification.py:1245: UndefinedMetricWarning: Precision and F-score are ill-defined and being set to 0.0 in labels with no predicted samples. Use `zero_division` parameter to control this behavior.\n",
      "  _warn_prf(average, modifier, msg_start, len(result))\n",
      "/opt/anaconda3/lib/python3.8/site-packages/sklearn/metrics/_classification.py:1245: UndefinedMetricWarning: Precision and F-score are ill-defined and being set to 0.0 in labels with no predicted samples. Use `zero_division` parameter to control this behavior.\n",
      "  _warn_prf(average, modifier, msg_start, len(result))\n",
      "/opt/anaconda3/lib/python3.8/site-packages/sklearn/metrics/_classification.py:1245: UndefinedMetricWarning: Precision and F-score are ill-defined and being set to 0.0 in labels with no predicted samples. Use `zero_division` parameter to control this behavior.\n",
      "  _warn_prf(average, modifier, msg_start, len(result))\n"
     ]
    },
    {
     "data": {
      "text/plain": [
       "0.32592592592592595"
      ]
     },
     "metadata": {},
     "output_type": "display_data"
    },
    {
     "name": "stdout",
     "output_type": "stream",
     "text": [
      "\n",
      "\n",
      "Confusion matrix: \n",
      "\n"
     ]
    },
    {
     "data": {
      "text/plain": [
       "array([[ 1, 44,  0],\n",
       "       [ 0, 43,  0],\n",
       "       [ 0, 47,  0]])"
      ]
     },
     "metadata": {},
     "output_type": "display_data"
    },
    {
     "name": "stdout",
     "output_type": "stream",
     "text": [
      "\n",
      "\n",
      "Classification report:\n",
      " \n"
     ]
    },
    {
     "data": {
      "text/plain": [
       "{'Iris-setosa': {'precision': 1.0,\n",
       "  'recall': 0.022222222222222223,\n",
       "  'f1-score': 0.04347826086956522,\n",
       "  'support': 45},\n",
       " 'Iris-versicolor': {'precision': 0.3208955223880597,\n",
       "  'recall': 1.0,\n",
       "  'f1-score': 0.4858757062146893,\n",
       "  'support': 43},\n",
       " 'Iris-virginica': {'precision': 0.0,\n",
       "  'recall': 0.0,\n",
       "  'f1-score': 0.0,\n",
       "  'support': 47},\n",
       " 'accuracy': 0.32592592592592595,\n",
       " 'macro avg': {'precision': 0.44029850746268656,\n",
       "  'recall': 0.34074074074074073,\n",
       "  'f1-score': 0.17645132236141817,\n",
       "  'support': 135},\n",
       " 'weighted avg': {'precision': 0.4355444997236042,\n",
       "  'recall': 0.32592592592592595,\n",
       "  'f1-score': 0.1692531637508302,\n",
       "  'support': 135}}"
      ]
     },
     "metadata": {},
     "output_type": "display_data"
    },
    {
     "name": "stdout",
     "output_type": "stream",
     "text": [
      "[0.93333333 1.         1.         0.96666667 1.        ]\n",
      "Avg Accuracy score over 5 folds: \n",
      " 0.9898567726658942\n",
      "Stddev Accuracy score over 5 folds: \n",
      " 0.013548786198780497\n",
      "\n",
      "-\n",
      "2-Nearest Neighbours:\n",
      "-\n",
      "          \n",
      "          \n",
      "Total Time to Classify: 0.0017235000013897661\n",
      "----DETAIL----\n",
      "\n",
      "\n",
      "Accuracy: \n",
      "\n"
     ]
    },
    {
     "data": {
      "text/plain": [
       "0.9444444444444444"
      ]
     },
     "metadata": {},
     "output_type": "display_data"
    },
    {
     "name": "stdout",
     "output_type": "stream",
     "text": [
      "\n",
      "\n",
      "Confusion matrix: \n",
      "\n"
     ]
    },
    {
     "data": {
      "text/plain": [
       "array([[16,  0,  0],\n",
       "       [ 0, 19,  2],\n",
       "       [ 0,  1, 16]])"
      ]
     },
     "metadata": {},
     "output_type": "display_data"
    },
    {
     "name": "stdout",
     "output_type": "stream",
     "text": [
      "\n",
      "\n",
      "Classification report:\n",
      " \n"
     ]
    },
    {
     "data": {
      "text/plain": [
       "{'Iris-setosa': {'precision': 1.0,\n",
       "  'recall': 1.0,\n",
       "  'f1-score': 1.0,\n",
       "  'support': 16},\n",
       " 'Iris-versicolor': {'precision': 0.95,\n",
       "  'recall': 0.9047619047619048,\n",
       "  'f1-score': 0.9268292682926829,\n",
       "  'support': 21},\n",
       " 'Iris-virginica': {'precision': 0.8888888888888888,\n",
       "  'recall': 0.9411764705882353,\n",
       "  'f1-score': 0.9142857142857143,\n",
       "  'support': 17},\n",
       " 'accuracy': 0.9444444444444444,\n",
       " 'macro avg': {'precision': 0.9462962962962962,\n",
       "  'recall': 0.9486461251167132,\n",
       "  'f1-score': 0.9470383275261324,\n",
       "  'support': 54},\n",
       " 'weighted avg': {'precision': 0.9455761316872429,\n",
       "  'recall': 0.9444444444444444,\n",
       "  'f1-score': 0.9445605884630275,\n",
       "  'support': 54}}"
      ]
     },
     "metadata": {},
     "output_type": "display_data"
    },
    {
     "name": "stdout",
     "output_type": "stream",
     "text": [
      "[0.96666667 0.93333333 0.93333333 0.9        1.        ]\n",
      "Avg Accuracy score over 5 folds: \n",
      " 0.9728117888918562\n",
      "Stddev Accuracy score over 5 folds: \n",
      " 0.017432442734551096\n",
      "\n",
      "-\n",
      "4-Nearest Neighbours:\n",
      "-\n",
      "          \n",
      "          \n",
      "Total Time to Classify: 0.0024688749999768334\n",
      "----DETAIL----\n",
      "\n",
      "\n",
      "Accuracy: \n",
      "\n"
     ]
    },
    {
     "data": {
      "text/plain": [
       "0.9259259259259259"
      ]
     },
     "metadata": {},
     "output_type": "display_data"
    },
    {
     "name": "stdout",
     "output_type": "stream",
     "text": [
      "\n",
      "\n",
      "Confusion matrix: \n",
      "\n"
     ]
    },
    {
     "data": {
      "text/plain": [
       "array([[16,  0,  0],\n",
       "       [ 0, 18,  3],\n",
       "       [ 0,  1, 16]])"
      ]
     },
     "metadata": {},
     "output_type": "display_data"
    },
    {
     "name": "stdout",
     "output_type": "stream",
     "text": [
      "\n",
      "\n",
      "Classification report:\n",
      " \n"
     ]
    },
    {
     "data": {
      "text/plain": [
       "{'Iris-setosa': {'precision': 1.0,\n",
       "  'recall': 1.0,\n",
       "  'f1-score': 1.0,\n",
       "  'support': 16},\n",
       " 'Iris-versicolor': {'precision': 0.9473684210526315,\n",
       "  'recall': 0.8571428571428571,\n",
       "  'f1-score': 0.9,\n",
       "  'support': 21},\n",
       " 'Iris-virginica': {'precision': 0.8421052631578947,\n",
       "  'recall': 0.9411764705882353,\n",
       "  'f1-score': 0.8888888888888888,\n",
       "  'support': 17},\n",
       " 'accuracy': 0.9259259259259259,\n",
       " 'macro avg': {'precision': 0.9298245614035087,\n",
       "  'recall': 0.9327731092436974,\n",
       "  'f1-score': 0.9296296296296296,\n",
       "  'support': 54},\n",
       " 'weighted avg': {'precision': 0.9298245614035087,\n",
       "  'recall': 0.9259259259259259,\n",
       "  'f1-score': 0.9261316872427985,\n",
       "  'support': 54}}"
      ]
     },
     "metadata": {},
     "output_type": "display_data"
    },
    {
     "name": "stdout",
     "output_type": "stream",
     "text": [
      "[0.96666667 0.96666667 0.96666667 0.96666667 1.        ]\n",
      "Avg Accuracy score over 5 folds: \n",
      " 0.98655366420014\n",
      "Stddev Accuracy score over 5 folds: \n",
      " 0.006723167899929994\n",
      "\n",
      "-\n",
      "6-Nearest Neighbours:\n",
      "-\n",
      "          \n",
      "          \n",
      "Total Time to Classify: 0.0018422920002194587\n",
      "----DETAIL----\n",
      "\n",
      "\n",
      "Accuracy: \n",
      "\n"
     ]
    },
    {
     "data": {
      "text/plain": [
       "0.9444444444444444"
      ]
     },
     "metadata": {},
     "output_type": "display_data"
    },
    {
     "name": "stdout",
     "output_type": "stream",
     "text": [
      "\n",
      "\n",
      "Confusion matrix: \n",
      "\n"
     ]
    },
    {
     "data": {
      "text/plain": [
       "array([[16,  0,  0],\n",
       "       [ 0, 19,  2],\n",
       "       [ 0,  1, 16]])"
      ]
     },
     "metadata": {},
     "output_type": "display_data"
    },
    {
     "name": "stdout",
     "output_type": "stream",
     "text": [
      "\n",
      "\n",
      "Classification report:\n",
      " \n"
     ]
    },
    {
     "data": {
      "text/plain": [
       "{'Iris-setosa': {'precision': 1.0,\n",
       "  'recall': 1.0,\n",
       "  'f1-score': 1.0,\n",
       "  'support': 16},\n",
       " 'Iris-versicolor': {'precision': 0.95,\n",
       "  'recall': 0.9047619047619048,\n",
       "  'f1-score': 0.9268292682926829,\n",
       "  'support': 21},\n",
       " 'Iris-virginica': {'precision': 0.8888888888888888,\n",
       "  'recall': 0.9411764705882353,\n",
       "  'f1-score': 0.9142857142857143,\n",
       "  'support': 17},\n",
       " 'accuracy': 0.9444444444444444,\n",
       " 'macro avg': {'precision': 0.9462962962962962,\n",
       "  'recall': 0.9486461251167132,\n",
       "  'f1-score': 0.9470383275261324,\n",
       "  'support': 54},\n",
       " 'weighted avg': {'precision': 0.9455761316872429,\n",
       "  'recall': 0.9444444444444444,\n",
       "  'f1-score': 0.9445605884630275,\n",
       "  'support': 54}}"
      ]
     },
     "metadata": {},
     "output_type": "display_data"
    },
    {
     "name": "stdout",
     "output_type": "stream",
     "text": [
      "[0.96666667 1.         0.96666667 0.96666667 1.        ]\n",
      "Avg Accuracy score over 5 folds: \n",
      " 0.989915248150105\n",
      "Stddev Accuracy score over 5 folds: \n",
      " 0.00823416540494382\n",
      "\n",
      "-\n",
      "8-Nearest Neighbours:\n",
      "-\n",
      "          \n",
      "          \n",
      "Total Time to Classify: 0.002149833999283146\n",
      "----DETAIL----\n",
      "\n",
      "\n",
      "Accuracy: \n",
      "\n"
     ]
    },
    {
     "data": {
      "text/plain": [
       "0.9444444444444444"
      ]
     },
     "metadata": {},
     "output_type": "display_data"
    },
    {
     "name": "stdout",
     "output_type": "stream",
     "text": [
      "\n",
      "\n",
      "Confusion matrix: \n",
      "\n"
     ]
    },
    {
     "data": {
      "text/plain": [
       "array([[16,  0,  0],\n",
       "       [ 0, 19,  2],\n",
       "       [ 0,  1, 16]])"
      ]
     },
     "metadata": {},
     "output_type": "display_data"
    },
    {
     "name": "stdout",
     "output_type": "stream",
     "text": [
      "\n",
      "\n",
      "Classification report:\n",
      " \n"
     ]
    },
    {
     "data": {
      "text/plain": [
       "{'Iris-setosa': {'precision': 1.0,\n",
       "  'recall': 1.0,\n",
       "  'f1-score': 1.0,\n",
       "  'support': 16},\n",
       " 'Iris-versicolor': {'precision': 0.95,\n",
       "  'recall': 0.9047619047619048,\n",
       "  'f1-score': 0.9268292682926829,\n",
       "  'support': 21},\n",
       " 'Iris-virginica': {'precision': 0.8888888888888888,\n",
       "  'recall': 0.9411764705882353,\n",
       "  'f1-score': 0.9142857142857143,\n",
       "  'support': 17},\n",
       " 'accuracy': 0.9444444444444444,\n",
       " 'macro avg': {'precision': 0.9462962962962962,\n",
       "  'recall': 0.9486461251167132,\n",
       "  'f1-score': 0.9470383275261324,\n",
       "  'support': 54},\n",
       " 'weighted avg': {'precision': 0.9455761316872429,\n",
       "  'recall': 0.9444444444444444,\n",
       "  'f1-score': 0.9445605884630275,\n",
       "  'support': 54}}"
      ]
     },
     "metadata": {},
     "output_type": "display_data"
    },
    {
     "name": "stdout",
     "output_type": "stream",
     "text": [
      "[0.96666667 1.         0.93333333 0.93333333 1.        ]\n",
      "Avg Accuracy score over 5 folds: \n",
      " 0.9830751292817533\n",
      "Stddev Accuracy score over 5 folds: \n",
      " 0.015164328350789515\n",
      "\n",
      "-\n",
      "10-Nearest Neighbours:\n",
      "-\n",
      "          \n",
      "          \n",
      "Total Time to Classify: 0.0016999580002448056\n",
      "----DETAIL----\n",
      "\n",
      "\n",
      "Accuracy: \n",
      "\n"
     ]
    },
    {
     "data": {
      "text/plain": [
       "0.9444444444444444"
      ]
     },
     "metadata": {},
     "output_type": "display_data"
    },
    {
     "name": "stdout",
     "output_type": "stream",
     "text": [
      "\n",
      "\n",
      "Confusion matrix: \n",
      "\n"
     ]
    },
    {
     "data": {
      "text/plain": [
       "array([[16,  0,  0],\n",
       "       [ 0, 19,  2],\n",
       "       [ 0,  1, 16]])"
      ]
     },
     "metadata": {},
     "output_type": "display_data"
    },
    {
     "name": "stdout",
     "output_type": "stream",
     "text": [
      "\n",
      "\n",
      "Classification report:\n",
      " \n"
     ]
    },
    {
     "data": {
      "text/plain": [
       "{'Iris-setosa': {'precision': 1.0,\n",
       "  'recall': 1.0,\n",
       "  'f1-score': 1.0,\n",
       "  'support': 16},\n",
       " 'Iris-versicolor': {'precision': 0.95,\n",
       "  'recall': 0.9047619047619048,\n",
       "  'f1-score': 0.9268292682926829,\n",
       "  'support': 21},\n",
       " 'Iris-virginica': {'precision': 0.8888888888888888,\n",
       "  'recall': 0.9411764705882353,\n",
       "  'f1-score': 0.9142857142857143,\n",
       "  'support': 17},\n",
       " 'accuracy': 0.9444444444444444,\n",
       " 'macro avg': {'precision': 0.9462962962962962,\n",
       "  'recall': 0.9486461251167132,\n",
       "  'f1-score': 0.9470383275261324,\n",
       "  'support': 54},\n",
       " 'weighted avg': {'precision': 0.9455761316872429,\n",
       "  'recall': 0.9444444444444444,\n",
       "  'f1-score': 0.9445605884630275,\n",
       "  'support': 54}}"
      ]
     },
     "metadata": {},
     "output_type": "display_data"
    },
    {
     "name": "stdout",
     "output_type": "stream",
     "text": [
      "[0.96666667 1.         1.         0.93333333 1.        ]\n",
      "Avg Accuracy score over 5 folds: \n",
      " 0.9898567726658942\n",
      "Stddev Accuracy score over 5 folds: \n",
      " 0.013548786198780497\n",
      "\n",
      "-\n",
      "12-Nearest Neighbours:\n",
      "-\n",
      "          \n",
      "          \n",
      "Total Time to Classify: 0.0023442910005542217\n",
      "----DETAIL----\n",
      "\n",
      "\n",
      "Accuracy: \n",
      "\n"
     ]
    },
    {
     "data": {
      "text/plain": [
       "0.9444444444444444"
      ]
     },
     "metadata": {},
     "output_type": "display_data"
    },
    {
     "name": "stdout",
     "output_type": "stream",
     "text": [
      "\n",
      "\n",
      "Confusion matrix: \n",
      "\n"
     ]
    },
    {
     "data": {
      "text/plain": [
       "array([[16,  0,  0],\n",
       "       [ 0, 19,  2],\n",
       "       [ 0,  1, 16]])"
      ]
     },
     "metadata": {},
     "output_type": "display_data"
    },
    {
     "name": "stdout",
     "output_type": "stream",
     "text": [
      "\n",
      "\n",
      "Classification report:\n",
      " \n"
     ]
    },
    {
     "data": {
      "text/plain": [
       "{'Iris-setosa': {'precision': 1.0,\n",
       "  'recall': 1.0,\n",
       "  'f1-score': 1.0,\n",
       "  'support': 16},\n",
       " 'Iris-versicolor': {'precision': 0.95,\n",
       "  'recall': 0.9047619047619048,\n",
       "  'f1-score': 0.9268292682926829,\n",
       "  'support': 21},\n",
       " 'Iris-virginica': {'precision': 0.8888888888888888,\n",
       "  'recall': 0.9411764705882353,\n",
       "  'f1-score': 0.9142857142857143,\n",
       "  'support': 17},\n",
       " 'accuracy': 0.9444444444444444,\n",
       " 'macro avg': {'precision': 0.9462962962962962,\n",
       "  'recall': 0.9486461251167132,\n",
       "  'f1-score': 0.9470383275261324,\n",
       "  'support': 54},\n",
       " 'weighted avg': {'precision': 0.9455761316872429,\n",
       "  'recall': 0.9444444444444444,\n",
       "  'f1-score': 0.9445605884630275,\n",
       "  'support': 54}}"
      ]
     },
     "metadata": {},
     "output_type": "display_data"
    },
    {
     "name": "stdout",
     "output_type": "stream",
     "text": [
      "[0.93333333 1.         1.         0.96666667 1.        ]\n",
      "Avg Accuracy score over 5 folds: \n",
      " 0.9898567726658942\n",
      "Stddev Accuracy score over 5 folds: \n",
      " 0.013548786198780497\n",
      "\n",
      "-\n",
      "14-Nearest Neighbours:\n",
      "-\n",
      "          \n",
      "          \n",
      "Total Time to Classify: 0.0019576670001697494\n",
      "----DETAIL----\n",
      "\n",
      "\n",
      "Accuracy: \n",
      "\n"
     ]
    },
    {
     "data": {
      "text/plain": [
       "0.9444444444444444"
      ]
     },
     "metadata": {},
     "output_type": "display_data"
    },
    {
     "name": "stdout",
     "output_type": "stream",
     "text": [
      "\n",
      "\n",
      "Confusion matrix: \n",
      "\n"
     ]
    },
    {
     "data": {
      "text/plain": [
       "array([[16,  0,  0],\n",
       "       [ 0, 19,  2],\n",
       "       [ 0,  1, 16]])"
      ]
     },
     "metadata": {},
     "output_type": "display_data"
    },
    {
     "name": "stdout",
     "output_type": "stream",
     "text": [
      "\n",
      "\n",
      "Classification report:\n",
      " \n"
     ]
    },
    {
     "data": {
      "text/plain": [
       "{'Iris-setosa': {'precision': 1.0,\n",
       "  'recall': 1.0,\n",
       "  'f1-score': 1.0,\n",
       "  'support': 16},\n",
       " 'Iris-versicolor': {'precision': 0.95,\n",
       "  'recall': 0.9047619047619048,\n",
       "  'f1-score': 0.9268292682926829,\n",
       "  'support': 21},\n",
       " 'Iris-virginica': {'precision': 0.8888888888888888,\n",
       "  'recall': 0.9411764705882353,\n",
       "  'f1-score': 0.9142857142857143,\n",
       "  'support': 17},\n",
       " 'accuracy': 0.9444444444444444,\n",
       " 'macro avg': {'precision': 0.9462962962962962,\n",
       "  'recall': 0.9486461251167132,\n",
       "  'f1-score': 0.9470383275261324,\n",
       "  'support': 54},\n",
       " 'weighted avg': {'precision': 0.9455761316872429,\n",
       "  'recall': 0.9444444444444444,\n",
       "  'f1-score': 0.9445605884630275,\n",
       "  'support': 54}}"
      ]
     },
     "metadata": {},
     "output_type": "display_data"
    },
    {
     "name": "stdout",
     "output_type": "stream",
     "text": [
      "[0.93333333 1.         0.96666667 0.93333333 1.        ]\n",
      "Avg Accuracy score over 5 folds: \n",
      " 0.9830751292817533\n",
      "Stddev Accuracy score over 5 folds: \n",
      " 0.015164328350789515\n",
      "\n",
      "-\n",
      "16-Nearest Neighbours:\n",
      "-\n",
      "          \n",
      "          \n",
      "Total Time to Classify: 0.0021959580008115154\n",
      "----DETAIL----\n",
      "\n",
      "\n",
      "Accuracy: \n",
      "\n"
     ]
    },
    {
     "data": {
      "text/plain": [
       "0.9074074074074074"
      ]
     },
     "metadata": {},
     "output_type": "display_data"
    },
    {
     "name": "stdout",
     "output_type": "stream",
     "text": [
      "\n",
      "\n",
      "Confusion matrix: \n",
      "\n"
     ]
    },
    {
     "data": {
      "text/plain": [
       "array([[16,  0,  0],\n",
       "       [ 0, 17,  4],\n",
       "       [ 0,  1, 16]])"
      ]
     },
     "metadata": {},
     "output_type": "display_data"
    },
    {
     "name": "stdout",
     "output_type": "stream",
     "text": [
      "\n",
      "\n",
      "Classification report:\n",
      " \n"
     ]
    },
    {
     "data": {
      "text/plain": [
       "{'Iris-setosa': {'precision': 1.0,\n",
       "  'recall': 1.0,\n",
       "  'f1-score': 1.0,\n",
       "  'support': 16},\n",
       " 'Iris-versicolor': {'precision': 0.9444444444444444,\n",
       "  'recall': 0.8095238095238095,\n",
       "  'f1-score': 0.8717948717948718,\n",
       "  'support': 21},\n",
       " 'Iris-virginica': {'precision': 0.8,\n",
       "  'recall': 0.9411764705882353,\n",
       "  'f1-score': 0.8648648648648648,\n",
       "  'support': 17},\n",
       " 'accuracy': 0.9074074074074074,\n",
       " 'macro avg': {'precision': 0.9148148148148149,\n",
       "  'recall': 0.9169000933706816,\n",
       "  'f1-score': 0.9122199122199123,\n",
       "  'support': 54},\n",
       " 'weighted avg': {'precision': 0.9154320987654321,\n",
       "  'recall': 0.9074074074074074,\n",
       "  'f1-score': 0.9075999075999076,\n",
       "  'support': 54}}"
      ]
     },
     "metadata": {},
     "output_type": "display_data"
    },
    {
     "name": "stdout",
     "output_type": "stream",
     "text": [
      "[0.93333333 1.         0.93333333 0.96666667 1.        ]\n",
      "Avg Accuracy score over 5 folds: \n",
      " 0.9830751292817533\n",
      "Stddev Accuracy score over 5 folds: \n",
      " 0.015164328350789515\n",
      "\n",
      "-\n",
      "18-Nearest Neighbours:\n",
      "-\n",
      "          \n",
      "          \n",
      "Total Time to Classify: 0.0020889170009468216\n",
      "----DETAIL----\n",
      "\n",
      "\n",
      "Accuracy: \n",
      "\n"
     ]
    },
    {
     "data": {
      "text/plain": [
       "0.8888888888888888"
      ]
     },
     "metadata": {},
     "output_type": "display_data"
    },
    {
     "name": "stdout",
     "output_type": "stream",
     "text": [
      "\n",
      "\n",
      "Confusion matrix: \n",
      "\n"
     ]
    },
    {
     "data": {
      "text/plain": [
       "array([[16,  0,  0],\n",
       "       [ 0, 16,  5],\n",
       "       [ 0,  1, 16]])"
      ]
     },
     "metadata": {},
     "output_type": "display_data"
    },
    {
     "name": "stdout",
     "output_type": "stream",
     "text": [
      "\n",
      "\n",
      "Classification report:\n",
      " \n"
     ]
    },
    {
     "data": {
      "text/plain": [
       "{'Iris-setosa': {'precision': 1.0,\n",
       "  'recall': 1.0,\n",
       "  'f1-score': 1.0,\n",
       "  'support': 16},\n",
       " 'Iris-versicolor': {'precision': 0.9411764705882353,\n",
       "  'recall': 0.7619047619047619,\n",
       "  'f1-score': 0.8421052631578947,\n",
       "  'support': 21},\n",
       " 'Iris-virginica': {'precision': 0.7619047619047619,\n",
       "  'recall': 0.9411764705882353,\n",
       "  'f1-score': 0.8421052631578947,\n",
       "  'support': 17},\n",
       " 'accuracy': 0.8888888888888888,\n",
       " 'macro avg': {'precision': 0.9010270774976658,\n",
       "  'recall': 0.9010270774976658,\n",
       "  'f1-score': 0.8947368421052632,\n",
       "  'support': 54},\n",
       " 'weighted avg': {'precision': 0.9021682747172943,\n",
       "  'recall': 0.8888888888888888,\n",
       "  'f1-score': 0.8888888888888888,\n",
       "  'support': 54}}"
      ]
     },
     "metadata": {},
     "output_type": "display_data"
    },
    {
     "name": "stdout",
     "output_type": "stream",
     "text": [
      "[0.93333333 1.         0.96666667 0.93333333 1.        ]\n",
      "Avg Accuracy score over 5 folds: \n",
      " 0.9830751292817533\n",
      "Stddev Accuracy score over 5 folds: \n",
      " 0.015164328350789515\n",
      "\n",
      "-\n",
      "20-Nearest Neighbours:\n",
      "-\n",
      "          \n",
      "          \n",
      "Total Time to Classify: 0.001832083000408602\n",
      "----DETAIL----\n",
      "\n",
      "\n",
      "Accuracy: \n",
      "\n"
     ]
    },
    {
     "data": {
      "text/plain": [
       "0.8888888888888888"
      ]
     },
     "metadata": {},
     "output_type": "display_data"
    },
    {
     "name": "stdout",
     "output_type": "stream",
     "text": [
      "\n",
      "\n",
      "Confusion matrix: \n",
      "\n"
     ]
    },
    {
     "data": {
      "text/plain": [
       "array([[16,  0,  0],\n",
       "       [ 0, 16,  5],\n",
       "       [ 0,  1, 16]])"
      ]
     },
     "metadata": {},
     "output_type": "display_data"
    },
    {
     "name": "stdout",
     "output_type": "stream",
     "text": [
      "\n",
      "\n",
      "Classification report:\n",
      " \n"
     ]
    },
    {
     "data": {
      "text/plain": [
       "{'Iris-setosa': {'precision': 1.0,\n",
       "  'recall': 1.0,\n",
       "  'f1-score': 1.0,\n",
       "  'support': 16},\n",
       " 'Iris-versicolor': {'precision': 0.9411764705882353,\n",
       "  'recall': 0.7619047619047619,\n",
       "  'f1-score': 0.8421052631578947,\n",
       "  'support': 21},\n",
       " 'Iris-virginica': {'precision': 0.7619047619047619,\n",
       "  'recall': 0.9411764705882353,\n",
       "  'f1-score': 0.8421052631578947,\n",
       "  'support': 17},\n",
       " 'accuracy': 0.8888888888888888,\n",
       " 'macro avg': {'precision': 0.9010270774976658,\n",
       "  'recall': 0.9010270774976658,\n",
       "  'f1-score': 0.8947368421052632,\n",
       "  'support': 54},\n",
       " 'weighted avg': {'precision': 0.9021682747172943,\n",
       "  'recall': 0.8888888888888888,\n",
       "  'f1-score': 0.8888888888888888,\n",
       "  'support': 54}}"
      ]
     },
     "metadata": {},
     "output_type": "display_data"
    },
    {
     "name": "stdout",
     "output_type": "stream",
     "text": [
      "[0.93333333 1.         0.93333333 0.93333333 1.        ]\n",
      "Avg Accuracy score over 5 folds: \n",
      " 0.9796550698475774\n",
      "Stddev Accuracy score over 5 folds: \n",
      " 0.016611565908666345\n",
      "\n",
      "-\n",
      "22-Nearest Neighbours:\n",
      "-\n",
      "          \n",
      "          \n",
      "Total Time to Classify: 0.0035049170001002494\n",
      "----DETAIL----\n",
      "\n",
      "\n",
      "Accuracy: \n",
      "\n"
     ]
    },
    {
     "data": {
      "text/plain": [
       "0.8888888888888888"
      ]
     },
     "metadata": {},
     "output_type": "display_data"
    },
    {
     "name": "stdout",
     "output_type": "stream",
     "text": [
      "\n",
      "\n",
      "Confusion matrix: \n",
      "\n"
     ]
    },
    {
     "data": {
      "text/plain": [
       "array([[16,  0,  0],\n",
       "       [ 0, 16,  5],\n",
       "       [ 0,  1, 16]])"
      ]
     },
     "metadata": {},
     "output_type": "display_data"
    },
    {
     "name": "stdout",
     "output_type": "stream",
     "text": [
      "\n",
      "\n",
      "Classification report:\n",
      " \n"
     ]
    },
    {
     "data": {
      "text/plain": [
       "{'Iris-setosa': {'precision': 1.0,\n",
       "  'recall': 1.0,\n",
       "  'f1-score': 1.0,\n",
       "  'support': 16},\n",
       " 'Iris-versicolor': {'precision': 0.9411764705882353,\n",
       "  'recall': 0.7619047619047619,\n",
       "  'f1-score': 0.8421052631578947,\n",
       "  'support': 21},\n",
       " 'Iris-virginica': {'precision': 0.7619047619047619,\n",
       "  'recall': 0.9411764705882353,\n",
       "  'f1-score': 0.8421052631578947,\n",
       "  'support': 17},\n",
       " 'accuracy': 0.8888888888888888,\n",
       " 'macro avg': {'precision': 0.9010270774976658,\n",
       "  'recall': 0.9010270774976658,\n",
       "  'f1-score': 0.8947368421052632,\n",
       "  'support': 54},\n",
       " 'weighted avg': {'precision': 0.9021682747172943,\n",
       "  'recall': 0.8888888888888888,\n",
       "  'f1-score': 0.8888888888888888,\n",
       "  'support': 54}}"
      ]
     },
     "metadata": {},
     "output_type": "display_data"
    },
    {
     "name": "stdout",
     "output_type": "stream",
     "text": [
      "[0.93333333 1.         0.93333333 0.93333333 1.        ]\n",
      "Avg Accuracy score over 5 folds: \n",
      " 0.9796550698475774\n",
      "Stddev Accuracy score over 5 folds: \n",
      " 0.016611565908666345\n"
     ]
    }
   ],
   "source": [
    "df=pd.read_csv('iris.csv',header=None)\n",
    "\n",
    "test_size=0.36\n",
    "\n",
    "X=df[[0,1,2,3]].values\n",
    "y=df.pop(4).values\n",
    "\n",
    "split_dict=dict()\n",
    "k_dict=dict()\n",
    "\n",
    "split_array = [0.18*1, 0.18*2, 0.18*3, 0.18*4, 0.90]\n",
    "\n",
    "for split in split_array:\n",
    "    split_dict[split]=create_model(X=X\n",
    "                 ,y=y\n",
    "                 ,neighbours=12\n",
    "                 ,scaler=None\n",
    "                 ,random_state=14395076\n",
    "                 ,plot_comp=True\n",
    "                 ,assess=True\n",
    "                 ,test_size=split\n",
    "                 , verbose=True\n",
    "                 ,mod_type='kNN')\n",
    "    \n",
    "    \n",
    "k_array=[2, 4, 6, 8,10,12,14,16,18,20,22]\n",
    "\n",
    "for k in k_array:\n",
    "    k_dict[k]=create_model(X=X\n",
    "                 ,y=y\n",
    "                 ,neighbours=k\n",
    "                 ,scaler=None\n",
    "                 ,random_state=14395076\n",
    "                 ,plot_comp=True\n",
    "                 ,assess=True\n",
    "                 ,test_size=0.36\n",
    "                 ,verbose=True\n",
    "                 ,mod_type='kNN')"
   ]
  },
  {
   "cell_type": "code",
   "execution_count": 302,
   "id": "a10fc2be",
   "metadata": {},
   "outputs": [],
   "source": [
    "import nltk\n",
    "from nltk.corpus import names\n",
    "import random\n",
    "\n",
    "\n",
    "\n",
    "def question_two():\n",
    "    \n",
    "    def gender_features(word):\n",
    "        d_one=last_letter(word)\n",
    "        d_two=first_letter(word)\n",
    "        d_three=first_two_letter(word)\n",
    "        \n",
    "        dall = {}\n",
    "        dall.update(d_one)\n",
    "        dall.update(d_two)\n",
    "        dall.update(d_three)\n",
    "        \n",
    "        return dall\n",
    "\n",
    "    def last_letter(word):\n",
    "        return {'last_letter': word[-1]}\n",
    "    \n",
    "    def first_letter(word):\n",
    "        return {'first_letter': word[0]}\n",
    "    \n",
    "    def first_last_letter(word):\n",
    "        return {'first_last_letter': word[0] + word[-1]}\n",
    "\n",
    "    #Last Leter\n",
    "    print(\"\"\"\n",
    "-----\n",
    "     LAST LETTER     \n",
    "-----     \n",
    "          \"\"\")\n",
    "    male_names = [(name, 'male') for name in names.words('male.txt')]\n",
    "    female_names = [(name, 'female') for name in names.words('female.txt')]\n",
    "    labeled_names = male_names + female_names\n",
    "    random.shuffle(labeled_names)\n",
    "    featuresets = [(last_letter(n), gender) for (n, gender) in labeled_names]\n",
    "    #entries are    ({'last_letter': 'g'}, 'male')\n",
    "    train_set, test_set = featuresets[500:], featuresets[:500]\n",
    "\n",
    "    classifier = nltk.NaiveBayesClassifier.train(train_set)\n",
    "\n",
    "    \n",
    "    ans1 = classifier.classify(last_letter('Mark'))\n",
    "    ans2 = classifier.classify(last_letter('Precilla'))\n",
    "    ans3 = classifier.classify(last_letter('Adam'))\n",
    "    ans4 = classifier.classify(last_letter('Barry'))\n",
    "    ans5 = classifier.classify(last_letter('Sean'))\n",
    "    ans6 = classifier.classify(last_letter('Peter'))\n",
    "    ans7 = classifier.classify(last_letter('Hassan'))\n",
    "\n",
    "    print(\"Mark is:\", ans1)\n",
    "    print(\"Precilla is:\", ans2)\n",
    "    print(\"Adam is:\", ans3)\n",
    "    print(\"Barry is:\", ans4)\n",
    "    print(\"Sean is:\", ans5)\n",
    "    print(\"Peter is:\", ans6)\n",
    "    print(\"Hassan is:\", ans7)\n",
    "    print(\"\\n\")\n",
    "\n",
    "    display(classifier.show_most_informative_features(5))\n",
    "    \n",
    "    print(\"Classifier accuracy: \\n\")\n",
    "    print(nltk.classify.accuracy(classifier, test_set))\n",
    "    \n",
    "    \n",
    "        \n",
    "    #First Leter\n",
    "    print(\"\"\"\n",
    "-----\n",
    "     FIRST LETTER     \n",
    "-----     \n",
    "          \"\"\")\n",
    "    \n",
    "    male_names = [(name, 'male') for name in names.words('male.txt')]\n",
    "    female_names = [(name, 'female') for name in names.words('female.txt')]\n",
    "    labeled_names = male_names + female_names\n",
    "    random.shuffle(labeled_names)\n",
    "    featuresets = [(first_letter(n), gender) for (n, gender) in labeled_names]\n",
    "    #entries are    ({'last_letter': 'g'}, 'male')\n",
    "    train_set, test_set = featuresets[500:], featuresets[:500]\n",
    "\n",
    "    classifier = nltk.NaiveBayesClassifier.train(train_set)\n",
    "\n",
    "    \n",
    "    ans1 = classifier.classify(first_letter('Mark'))\n",
    "    ans2 = classifier.classify(first_letter('Precilla'))\n",
    "    ans3 = classifier.classify(first_letter('Adam'))\n",
    "    ans4 = classifier.classify(first_letter('Barry'))\n",
    "    ans5 = classifier.classify(first_letter('Sean'))\n",
    "    ans6 = classifier.classify(first_letter('Peter'))\n",
    "    ans7 = classifier.classify(first_letter('Hassan'))\n",
    "\n",
    "    print(\"Mark is:\", ans1)\n",
    "    print(\"Precilla is:\", ans2)\n",
    "    print(\"Adam is:\", ans3)\n",
    "    print(\"Barry is:\", ans4)\n",
    "    print(\"Sean is:\", ans5)\n",
    "    print(\"Peter is:\", ans6)\n",
    "    print(\"Hassan is:\", ans7)\n",
    "    print(\"\\n\")\n",
    "\n",
    "    display(classifier.show_most_informative_features(5))\n",
    "    \n",
    "    print(\"Classifier accuracy: \\n\")\n",
    "    print(nltk.classify.accuracy(classifier, test_set))\n",
    "    \n",
    "    \n",
    "    #First Leter\n",
    "    print(\"\"\"\n",
    "-----\n",
    "     FIRST AND LAST LETTER     \n",
    "-----     \n",
    "          \"\"\")\n",
    "    \n",
    "    male_names = [(name, 'male') for name in names.words('male.txt')]\n",
    "    female_names = [(name, 'female') for name in names.words('female.txt')]\n",
    "    labeled_names = male_names + female_names\n",
    "    random.shuffle(labeled_names)\n",
    "    featuresets = [(first_last_letter(n), gender) for (n, gender) in labeled_names]\n",
    "    #entries are    ({'last_letter': 'g'}, 'male')\n",
    "    train_set, test_set = featuresets[500:], featuresets[:500]\n",
    "\n",
    "    classifier = nltk.NaiveBayesClassifier.train(train_set)\n",
    "    \n",
    "    ans1 = classifier.classify(first_last_letter('Mark'))\n",
    "    ans2 = classifier.classify(first_last_letter('Precilla'))\n",
    "    ans3 = classifier.classify(first_last_letter('Adam'))\n",
    "    ans4 = classifier.classify(first_last_letter('Barry'))\n",
    "    ans5 = classifier.classify(first_last_letter('Sean'))\n",
    "    ans6 = classifier.classify(first_last_letter('Peter'))\n",
    "    ans7 = classifier.classify(first_last_letter('Hassan'))\n",
    "\n",
    "    print(\"Mark is:\", ans1)\n",
    "    print(\"Precilla is:\", ans2)\n",
    "    print(\"Adam is:\", ans3)\n",
    "    print(\"Barry is:\", ans4)\n",
    "    print(\"Sean is:\", ans5)\n",
    "    print(\"Peter is:\", ans6)\n",
    "    print(\"Hassan is:\", ans7)\n",
    "\n",
    "    print(\"\\n\")\n",
    "\n",
    "    display(classifier.show_most_informative_features(5))\n",
    "    \n",
    "    print(\"Classifier accuracy: \\n\")\n",
    "    print(nltk.classify.accuracy(classifier, test_set))"
   ]
  },
  {
   "cell_type": "code",
   "execution_count": 303,
   "id": "c2f8b72e",
   "metadata": {},
   "outputs": [
    {
     "name": "stdout",
     "output_type": "stream",
     "text": [
      "\n",
      "-----\n",
      "     LAST LETTER     \n",
      "-----     \n",
      "          \n",
      "Mark is: male\n",
      "Precilla is: female\n",
      "Adam is: male\n",
      "Barry is: female\n",
      "Sean is: male\n",
      "Peter is: male\n",
      "Hassan is: male\n",
      "\n",
      "\n",
      "Most Informative Features\n",
      "             last_letter = 'k'              male : female =     45.1 : 1.0\n",
      "             last_letter = 'a'            female : male   =     34.2 : 1.0\n",
      "             last_letter = 'f'              male : female =     17.3 : 1.0\n",
      "             last_letter = 'p'              male : female =     11.9 : 1.0\n",
      "             last_letter = 'v'              male : female =     10.5 : 1.0\n"
     ]
    },
    {
     "data": {
      "text/plain": [
       "None"
      ]
     },
     "metadata": {},
     "output_type": "display_data"
    },
    {
     "name": "stdout",
     "output_type": "stream",
     "text": [
      "Classifier accuracy: \n",
      "\n",
      "0.79\n",
      "\n",
      "-----\n",
      "     FIRST LETTER     \n",
      "-----     \n",
      "          \n",
      "Mark is: female\n",
      "Precilla is: female\n",
      "Adam is: female\n",
      "Barry is: female\n",
      "Sean is: female\n",
      "Peter is: female\n",
      "Hassan is: male\n",
      "\n",
      "\n",
      "Most Informative Features\n",
      "            first_letter = 'W'              male : female =      4.6 : 1.0\n",
      "            first_letter = 'Q'              male : female =      2.9 : 1.0\n",
      "            first_letter = 'U'              male : female =      2.4 : 1.0\n",
      "            first_letter = 'X'              male : female =      2.3 : 1.0\n",
      "            first_letter = 'K'            female : male   =      2.2 : 1.0\n"
     ]
    },
    {
     "data": {
      "text/plain": [
       "None"
      ]
     },
     "metadata": {},
     "output_type": "display_data"
    },
    {
     "name": "stdout",
     "output_type": "stream",
     "text": [
      "Classifier accuracy: \n",
      "\n",
      "0.658\n",
      "\n",
      "-----\n",
      "     FIRST AND LAST LETTER     \n",
      "-----     \n",
      "          \n",
      "Mark is: male\n",
      "Precilla is: female\n",
      "Adam is: male\n",
      "Barry is: female\n",
      "Sean is: male\n",
      "Peter is: male\n",
      "Hassan is: male\n",
      "\n",
      "\n",
      "Most Informative Features\n",
      "       first_last_letter = 'Ca'           female : male   =     54.8 : 1.0\n",
      "       first_last_letter = 'Da'           female : male   =     40.4 : 1.0\n",
      "       first_last_letter = 'Ma'           female : male   =     38.4 : 1.0\n",
      "       first_last_letter = 'Ra'           female : male   =     38.3 : 1.0\n",
      "       first_last_letter = 'Hn'             male : female =     33.8 : 1.0\n"
     ]
    },
    {
     "data": {
      "text/plain": [
       "None"
      ]
     },
     "metadata": {},
     "output_type": "display_data"
    },
    {
     "name": "stdout",
     "output_type": "stream",
     "text": [
      "Classifier accuracy: \n",
      "\n",
      "0.748\n"
     ]
    }
   ],
   "source": [
    "question_two()"
   ]
  },
  {
   "cell_type": "code",
   "execution_count": 276,
   "id": "d4ad5564",
   "metadata": {},
   "outputs": [
    {
     "data": {
      "text/plain": [
       "'te'"
      ]
     },
     "execution_count": 276,
     "metadata": {},
     "output_type": "execute_result"
    }
   ],
   "source": [
    "'test'[0:2]"
   ]
  },
  {
   "cell_type": "code",
   "execution_count": 305,
   "id": "e0b377a8",
   "metadata": {},
   "outputs": [
    {
     "data": {
      "text/plain": [
       "676"
      ]
     },
     "execution_count": 305,
     "metadata": {},
     "output_type": "execute_result"
    }
   ],
   "source": [
    "26**2"
   ]
  },
  {
   "cell_type": "code",
   "execution_count": null,
   "id": "562f653c",
   "metadata": {},
   "outputs": [],
   "source": []
  }
 ],
 "metadata": {
  "kernelspec": {
   "display_name": "Python 3",
   "language": "python",
   "name": "python3"
  },
  "language_info": {
   "codemirror_mode": {
    "name": "ipython",
    "version": 3
   },
   "file_extension": ".py",
   "mimetype": "text/x-python",
   "name": "python",
   "nbconvert_exporter": "python",
   "pygments_lexer": "ipython3",
   "version": "3.8.8"
  }
 },
 "nbformat": 4,
 "nbformat_minor": 5
}
