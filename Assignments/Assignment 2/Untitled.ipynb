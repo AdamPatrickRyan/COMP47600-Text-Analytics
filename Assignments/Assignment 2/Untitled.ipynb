{
 "cells": [
  {
   "cell_type": "code",
   "execution_count": 1,
   "id": "baa6c4ba",
   "metadata": {},
   "outputs": [],
   "source": [
    "sentence=\"\"\"May our children and our childrens children \n",
    "          to a thousand generations continue to enjoy the \n",
    "          benefits conferred upon us by a united country \n",
    "          and have cause yet to rejoice under \n",
    "          those glorious institutions bequeathed us by Washington \n",
    "          and his compeers\"\"\""
   ]
  },
  {
   "cell_type": "code",
   "execution_count": 2,
   "id": "3a56822b",
   "metadata": {},
   "outputs": [],
   "source": [
    "words=sentence.split()"
   ]
  },
  {
   "cell_type": "code",
   "execution_count": 4,
   "id": "2ba4dd6c",
   "metadata": {},
   "outputs": [],
   "source": [
    "\n",
    "word_count={}\n",
    "for word in words:\n",
    "    \n",
    "    if word in word_count:\n",
    "        word_count[word]+=1\n",
    "    else:\n",
    "        word_count[word]=1"
   ]
  },
  {
   "cell_type": "code",
   "execution_count": 5,
   "id": "9589e337",
   "metadata": {},
   "outputs": [
    {
     "data": {
      "text/plain": [
       "{'May': 1,\n",
       " 'our': 2,\n",
       " 'children': 2,\n",
       " 'and': 3,\n",
       " 'childrens': 1,\n",
       " 'to': 3,\n",
       " 'a': 2,\n",
       " 'thousand': 1,\n",
       " 'generations': 1,\n",
       " 'continue': 1,\n",
       " 'enjoy': 1,\n",
       " 'the': 1,\n",
       " 'benefits': 1,\n",
       " 'conferred': 1,\n",
       " 'upon': 1,\n",
       " 'us': 2,\n",
       " 'by': 2,\n",
       " 'united': 1,\n",
       " 'country': 1,\n",
       " 'have': 1,\n",
       " 'cause': 1,\n",
       " 'yet': 1,\n",
       " 'rejoice': 1,\n",
       " 'under': 1,\n",
       " 'those': 1,\n",
       " 'glorious': 1,\n",
       " 'institutions': 1,\n",
       " 'bequeathed': 1,\n",
       " 'Washington': 1,\n",
       " 'his': 1,\n",
       " 'compeers': 1}"
      ]
     },
     "execution_count": 5,
     "metadata": {},
     "output_type": "execute_result"
    }
   ],
   "source": [
    "word_count"
   ]
  },
  {
   "cell_type": "code",
   "execution_count": 6,
   "id": "0019b705",
   "metadata": {},
   "outputs": [],
   "source": [
    "inclusions=['thousand', 'institutions','enjoy','conferred','cause','benefits','children','bequeathed','childrens','continue','generations','glorious','united','yet','may','country','upon','rejoice','compeers'] "
   ]
  },
  {
   "cell_type": "code",
   "execution_count": 8,
   "id": "38c3793a",
   "metadata": {},
   "outputs": [],
   "source": [
    "exclusions=[word for word in words if word not in inclusions]"
   ]
  },
  {
   "cell_type": "code",
   "execution_count": 14,
   "id": "f473c844",
   "metadata": {},
   "outputs": [
    {
     "name": "stdout",
     "output_type": "stream",
     "text": [
      "{'under', 'his', 'us', 'to', 'May', 'those', 'and', 'Washington', 'our', 'the', 'a', 'have', 'by'}\n"
     ]
    }
   ],
   "source": [
    "print(set(exclusions))"
   ]
  },
  {
   "cell_type": "code",
   "execution_count": null,
   "id": "40ddaca3",
   "metadata": {},
   "outputs": [],
   "source": []
  }
 ],
 "metadata": {
  "kernelspec": {
   "display_name": "Python 3",
   "language": "python",
   "name": "python3"
  },
  "language_info": {
   "codemirror_mode": {
    "name": "ipython",
    "version": 3
   },
   "file_extension": ".py",
   "mimetype": "text/x-python",
   "name": "python",
   "nbconvert_exporter": "python",
   "pygments_lexer": "ipython3",
   "version": "3.8.8"
  }
 },
 "nbformat": 4,
 "nbformat_minor": 5
}
